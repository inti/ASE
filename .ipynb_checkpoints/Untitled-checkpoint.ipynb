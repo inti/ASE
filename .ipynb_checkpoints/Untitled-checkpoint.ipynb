{
 "cells": [
  {
   "cell_type": "code",
   "execution_count": 1,
   "metadata": {},
   "outputs": [],
   "source": [
    "import pandas as pd\n",
    "import pystan\n",
    "import numpy as np"
   ]
  },
  {
   "cell_type": "code",
   "execution_count": 2,
   "metadata": {},
   "outputs": [],
   "source": [
    "data = pd.read_table(\"/Users/inti.pedroso/DATA/ASE/phaser/ERR883767/ERR883767.phaser_ase.gene.txt\")\n",
    "data.head()\n",
    "data2 = data[data[\"totalCount\"] > 20]"
   ]
  },
  {
   "cell_type": "code",
   "execution_count": 3,
   "metadata": {},
   "outputs": [
    {
     "name": "stdout",
     "output_type": "stream",
     "text": [
      "data {\r\n",
      "  int<lower=1> N; // total number of observations\r\n",
      "  int<lower=1> K; // total number of mixture distributions\r\n",
      "  real<lower=0,upper=1> mu[K]; // means of mixture distributions\r\n",
      "  vector<lower=0>[K] lambda; // prior counts for mixture distributions\r\n",
      "  int<lower=0> x[N]; // counts for one allele\r\n",
      "  int<lower=0> n[N]; // total counts for unit\r\n",
      "}\r\n",
      "parameters {\r\n",
      "  simplex[K] theta; // mixture proportions\r\n",
      "  vector<lower=0.1>[K] M; // sum of all priors of individual components\r\n",
      "} \r\n",
      "model {\r\n",
      "  real alpha[K];\r\n",
      "  real beta[K];\r\n",
      "  vector[K] log_theta = log(theta); // cache log calculation\r\n",
      "  // alpha and beta parameters for each distribution\r\n",
      "  for (k in 1:K) {\r\n",
      "    alpha[k] = mu[k]*M[k];\r\n",
      "    beta[k] = (1-mu[k])*M[k];\r\n",
      "  }\r\n",
      "  // priors for allocations proportions. This are fixed\r\n",
      "  theta ~ dirichlet(lambda);\r\n",
      "  // priors for each component \r\n",
      "  M ~ pareto(0.1, 1.5);\r\n",
      "  // likelihood \r\n",
      "  for (i in 1:N) {\r\n",
      "    vector[K] lps = log_theta;\r\n",
      "    for (k in 1:K)\r\n",
      "      lps[k] += beta_binomial_lpmf(x[i]|n[i], alpha[k], beta[k]);\r\n",
      "    target += log_sum_exp(lps);\r\n",
      "  } \r\n",
      "} \r\n"
     ]
    }
   ],
   "source": [
    "!cat /Users/inti.pedroso/DATA/ASE/mixture_BB_dirPrior.stan"
   ]
  },
  {
   "cell_type": "code",
   "execution_count": 4,
   "metadata": {},
   "outputs": [
    {
     "name": "stderr",
     "output_type": "stream",
     "text": [
      "INFO:pystan:COMPILING THE C++ CODE FOR MODEL anon_model_ca28b97c632e4821dd758ef58b56d581 NOW.\n",
      "INFO:pystan:COMPILING THE C++ CODE FOR MODEL anon_model_8e974f6889c1edbaaaea95457fcd5445 NOW.\n"
     ]
    }
   ],
   "source": [
    "\n",
    "sm_BB = pystan.StanModel(file=\"/Users/inti.pedroso/DATA/ASE/mixture_BB.stan\")\n",
    "sm_BB_dirPrior = pystan.StanModel(file=\"/Users/inti.pedroso/DATA/ASE/mixture_BB_dirPrior.stan\")\n",
    "\n"
   ]
  },
  {
   "cell_type": "code",
   "execution_count": 6,
   "metadata": {},
   "outputs": [
    {
     "data": {
      "text/plain": [
       "array([0.01      , 0.20629947, 0.37003948, 0.5       , 0.62996052,\n",
       "       0.79370053, 0.99      ])"
      ]
     },
     "execution_count": 6,
     "metadata": {},
     "output_type": "execute_result"
    }
   ],
   "source": [
    "def get_mus(K=3, center=0.5, denom_val = 2):\n",
    "    mus = np.zeros(K)\n",
    "    center_idx = int(0.5*(K-1))\n",
    "    mus[ center_idx ] = 0.5\n",
    "    denominator = np.sqrt(denom_val)\n",
    "    for i in range(int(K - 0.5*(K-1)),K):\n",
    "      mus[i] = mus[i-1]/denominator;\n",
    "      mus[K - i - 1] = 1 - mus[i-1]/denominator;\n",
    "        \n",
    "    print(mus)\n",
    "\n",
    "def get_mus_log(K=3, center=0.5):\n",
    "    start = np.log(1)\n",
    "    end=np.log(0.5)\n",
    "    step= (end - start)/((K-1)/2)\n",
    "    mus = np.sort(\n",
    "        np.hstack(\n",
    "            [np.exp(np.arange(start,end,step)),\n",
    "            0.5,\n",
    "            1 - np.exp(np.arange(start,end,step))]\n",
    "        )\n",
    "    )\n",
    "\n",
    "    mus[mus == 0] = 0.01\n",
    "    mus[mus == 1] = 0.99\n",
    "    return mus\n",
    "\n",
    "def get_prior_counts(K=3):\n",
    "    pc = np.ones(K)\n",
    "    pc[int(0.5*(K-1))] = 10\n",
    "    return pc\n",
    "\n",
    "get_mus_log(K=7)\n"
   ]
  },
  {
   "cell_type": "code",
   "execution_count": null,
   "metadata": {},
   "outputs": [],
   "source": []
  },
  {
   "cell_type": "code",
   "execution_count": 7,
   "metadata": {},
   "outputs": [
    {
     "data": {
      "text/plain": [
       "{'N': 2423,\n",
       " 'K': 7,\n",
       " 'mu': array([0.01      , 0.20629947, 0.37003948, 0.5       , 0.62996052,\n",
       "        0.79370053, 0.99      ]),\n",
       " 'lambda': array([ 1.,  1.,  1., 10.,  1.,  1.,  1.]),\n",
       " 'x': array([ 42,  11,  23, ..., 197, 327, 114]),\n",
       " 'n': array([ 88,  22,  38, ..., 236, 455, 133])}"
      ]
     },
     "execution_count": 7,
     "metadata": {},
     "output_type": "execute_result"
    }
   ],
   "source": [
    "K=7\n",
    "dat2stan = {'N': data2.shape[0],\n",
    "            'K':K,\n",
    "            'mu': get_mus_log(K=K),\n",
    "            'lambda': get_prior_counts(K=K),\n",
    "            'x': data2.aCount.values,\n",
    "            'n': data2.totalCount.values\n",
    "}\n",
    "dat2stan\n"
   ]
  },
  {
   "cell_type": "code",
   "execution_count": null,
   "metadata": {},
   "outputs": [
    {
     "name": "stderr",
     "output_type": "stream",
     "text": [
      "/Users/inti.pedroso/anaconda2/envs/ase_dev/lib/python3.7/site-packages/pystan/misc.py:399: FutureWarning: Conversion of the second argument of issubdtype from `float` to `np.floating` is deprecated. In future, it will be treated as `np.float64 == np.dtype(float).type`.\n",
      "  elif np.issubdtype(np.asarray(v).dtype, float):\n"
     ]
    }
   ],
   "source": [
    "time fit = sm_BB.sampling(data=dat2stan, iter=2000, chains=2, n_jobs=2)"
   ]
  },
  {
   "cell_type": "code",
   "execution_count": null,
   "metadata": {},
   "outputs": [],
   "source": [
    "print(fit.stansummary())"
   ]
  },
  {
   "cell_type": "code",
   "execution_count": 9,
   "metadata": {},
   "outputs": [
    {
     "data": {
      "text/plain": [
       "-7.336178530676079"
      ]
     },
     "execution_count": 9,
     "metadata": {},
     "output_type": "execute_result"
    }
   ],
   "source": [
    "from scipy.special import gammaln\n",
    "\n",
    "def log_dbetabinomial(x,n,a,b):\n",
    "    return gammaln(n+1) + gammaln(x+a) + gammaln(n-x+b) + gammaln(a+b) - \\\n",
    "        (gammaln(x+1) + gammaln(n-x+1) + gammaln(a) + gammaln(b) + gammaln(n+a+b))\n",
    "\n",
    "log_dbetabinomial(10,50,25,25)"
   ]
  },
  {
   "cell_type": "code",
   "execution_count": 18,
   "metadata": {},
   "outputs": [
    {
     "data": {
      "text/plain": [
       "(489, 12)"
      ]
     },
     "execution_count": 18,
     "metadata": {},
     "output_type": "execute_result"
    }
   ],
   "source": [
    "data2 = data[data[\"totalCount\"] > 100]\n",
    "data2.shape"
   ]
  },
  {
   "cell_type": "code",
   "execution_count": 19,
   "metadata": {},
   "outputs": [
    {
     "data": {
      "text/html": [
       "<div>\n",
       "<style scoped>\n",
       "    .dataframe tbody tr th:only-of-type {\n",
       "        vertical-align: middle;\n",
       "    }\n",
       "\n",
       "    .dataframe tbody tr th {\n",
       "        vertical-align: top;\n",
       "    }\n",
       "\n",
       "    .dataframe thead th {\n",
       "        text-align: right;\n",
       "    }\n",
       "</style>\n",
       "<table border=\"1\" class=\"dataframe\">\n",
       "  <thead>\n",
       "    <tr style=\"text-align: right;\">\n",
       "      <th></th>\n",
       "      <th>contig</th>\n",
       "      <th>start</th>\n",
       "      <th>stop</th>\n",
       "      <th>name</th>\n",
       "      <th>aCount</th>\n",
       "      <th>bCount</th>\n",
       "      <th>totalCount</th>\n",
       "      <th>log2_aFC</th>\n",
       "      <th>n_variants</th>\n",
       "      <th>variants</th>\n",
       "      <th>gw_phased</th>\n",
       "      <th>bam</th>\n",
       "    </tr>\n",
       "  </thead>\n",
       "  <tbody>\n",
       "    <tr>\n",
       "      <th>47</th>\n",
       "      <td>B07</td>\n",
       "      <td>895453</td>\n",
       "      <td>900798</td>\n",
       "      <td>LOC100651524</td>\n",
       "      <td>90</td>\n",
       "      <td>73</td>\n",
       "      <td>163</td>\n",
       "      <td>0.302029</td>\n",
       "      <td>1</td>\n",
       "      <td>B07_896066_T_C</td>\n",
       "      <td>0</td>\n",
       "      <td>ERR883767</td>\n",
       "    </tr>\n",
       "    <tr>\n",
       "      <th>52</th>\n",
       "      <td>B07</td>\n",
       "      <td>936109</td>\n",
       "      <td>938120</td>\n",
       "      <td>LOC100652075</td>\n",
       "      <td>80</td>\n",
       "      <td>57</td>\n",
       "      <td>137</td>\n",
       "      <td>0.489038</td>\n",
       "      <td>1</td>\n",
       "      <td>B07_938003_T_A</td>\n",
       "      <td>0</td>\n",
       "      <td>ERR883767</td>\n",
       "    </tr>\n",
       "    <tr>\n",
       "      <th>61</th>\n",
       "      <td>B07</td>\n",
       "      <td>1008279</td>\n",
       "      <td>1010117</td>\n",
       "      <td>LOC100644439</td>\n",
       "      <td>68</td>\n",
       "      <td>68</td>\n",
       "      <td>136</td>\n",
       "      <td>0.000000</td>\n",
       "      <td>1</td>\n",
       "      <td>B07_1008987_C_T</td>\n",
       "      <td>0</td>\n",
       "      <td>ERR883767</td>\n",
       "    </tr>\n",
       "    <tr>\n",
       "      <th>116</th>\n",
       "      <td>B07</td>\n",
       "      <td>1627689</td>\n",
       "      <td>1645135</td>\n",
       "      <td>LOC100650116</td>\n",
       "      <td>97</td>\n",
       "      <td>88</td>\n",
       "      <td>185</td>\n",
       "      <td>0.140481</td>\n",
       "      <td>1</td>\n",
       "      <td>B07_1642199_C_T</td>\n",
       "      <td>0</td>\n",
       "      <td>ERR883767</td>\n",
       "    </tr>\n",
       "    <tr>\n",
       "      <th>152</th>\n",
       "      <td>B07</td>\n",
       "      <td>2104707</td>\n",
       "      <td>2106305</td>\n",
       "      <td>LOC100644293</td>\n",
       "      <td>224</td>\n",
       "      <td>218</td>\n",
       "      <td>442</td>\n",
       "      <td>0.039171</td>\n",
       "      <td>1</td>\n",
       "      <td>B07_2105536_A_G</td>\n",
       "      <td>0</td>\n",
       "      <td>ERR883767</td>\n",
       "    </tr>\n",
       "  </tbody>\n",
       "</table>\n",
       "</div>"
      ],
      "text/plain": [
       "    contig    start     stop          name  aCount  bCount  totalCount  \\\n",
       "47     B07   895453   900798  LOC100651524      90      73         163   \n",
       "52     B07   936109   938120  LOC100652075      80      57         137   \n",
       "61     B07  1008279  1010117  LOC100644439      68      68         136   \n",
       "116    B07  1627689  1645135  LOC100650116      97      88         185   \n",
       "152    B07  2104707  2106305  LOC100644293     224     218         442   \n",
       "\n",
       "     log2_aFC  n_variants         variants  gw_phased        bam  \n",
       "47   0.302029           1   B07_896066_T_C          0  ERR883767  \n",
       "52   0.489038           1   B07_938003_T_A          0  ERR883767  \n",
       "61   0.000000           1  B07_1008987_C_T          0  ERR883767  \n",
       "116  0.140481           1  B07_1642199_C_T          0  ERR883767  \n",
       "152  0.039171           1  B07_2105536_A_G          0  ERR883767  "
      ]
     },
     "execution_count": 19,
     "metadata": {},
     "output_type": "execute_result"
    }
   ],
   "source": [
    "data2.head()"
   ]
  },
  {
   "cell_type": "code",
   "execution_count": 22,
   "metadata": {},
   "outputs": [
    {
     "data": {
      "text/plain": [
       "array([ 1.,  1., 10.,  1.,  1.])"
      ]
     },
     "execution_count": 22,
     "metadata": {},
     "output_type": "execute_result"
    }
   ],
   "source": [
    "mult = get_mus_log(K=5)\n",
    "pr_ct = get_prior_counts(K=5)\n",
    "pr_ct\n"
   ]
  },
  {
   "cell_type": "code",
   "execution_count": 39,
   "metadata": {},
   "outputs": [
    {
     "name": "stdout",
     "output_type": "stream",
     "text": [
      "[ 2.  2. 20.  2.  2.]\n",
      "[ 4.  4. 40.  4.  4.]\n"
     ]
    }
   ],
   "source": [
    "class DirMult:\n",
    "    def __init__(self,K=3,prior_counts = None):\n",
    "        if prior_counts is not None:\n",
    "            self.prior_counts = prior_counts\n",
    "        else: \n",
    "            self.prior_counts = np.ones(K)\n",
    "        \n",
    "        self.alpha = self.prior_counts\n",
    "\n",
    "    \n",
    "    def update(self,counts = None):\n",
    "        self.alpha += counts\n",
    "            \n",
    "d = dirich(prior_counts=pr_ct)\n",
    "print(d.prior_counts)\n",
    "d.update(pr_ct)\n",
    "print(d.alpha)\n",
    "\n"
   ]
  },
  {
   "cell_type": "code",
   "execution_count": null,
   "metadata": {},
   "outputs": [],
   "source": [
    "for i in xr"
   ]
  },
  {
   "cell_type": "code",
   "execution_count": 42,
   "metadata": {},
   "outputs": [
    {
     "ename": "NameError",
     "evalue": "name 'exp' is not defined",
     "output_type": "error",
     "traceback": [
      "\u001b[0;31m---------------------------------------------------------------------------\u001b[0m",
      "\u001b[0;31mNameError\u001b[0m                                 Traceback (most recent call last)",
      "\u001b[0;32m<ipython-input-42-fca8677fac2e>\u001b[0m in \u001b[0;36m<module>\u001b[0;34m()\u001b[0m\n\u001b[1;32m      6\u001b[0m     \u001b[0;32mreturn\u001b[0m \u001b[0mtotal\u001b[0m\u001b[0;34m\u001b[0m\u001b[0m\n\u001b[1;32m      7\u001b[0m \u001b[0;34m\u001b[0m\u001b[0m\n\u001b[0;32m----> 8\u001b[0;31m \u001b[0mprob_1_beats_2\u001b[0m\u001b[0;34m(\u001b[0m\u001b[0;36m10\u001b[0m\u001b[0;34m,\u001b[0m\u001b[0;36m50\u001b[0m\u001b[0;34m,\u001b[0m\u001b[0;36m25\u001b[0m\u001b[0;34m,\u001b[0m\u001b[0;36m25\u001b[0m\u001b[0;34m)\u001b[0m\u001b[0;34m\u001b[0m\u001b[0m\n\u001b[0m",
      "\u001b[0;32m<ipython-input-42-fca8677fac2e>\u001b[0m in \u001b[0;36mprob_1_beats_2\u001b[0;34m(alpha_1, beta_1, alpha_2, beta_2)\u001b[0m\n\u001b[1;32m      2\u001b[0m     \u001b[0mtotal\u001b[0m \u001b[0;34m=\u001b[0m \u001b[0;36m0.0\u001b[0m\u001b[0;34m\u001b[0m\u001b[0m\n\u001b[1;32m      3\u001b[0m     \u001b[0;32mfor\u001b[0m \u001b[0mk\u001b[0m \u001b[0;32min\u001b[0m \u001b[0mrange\u001b[0m\u001b[0;34m(\u001b[0m\u001b[0;36m0\u001b[0m\u001b[0;34m,\u001b[0m\u001b[0;34m(\u001b[0m\u001b[0malpha_1\u001b[0m\u001b[0;34m-\u001b[0m\u001b[0;36m1\u001b[0m\u001b[0;34m)\u001b[0m\u001b[0;34m)\u001b[0m\u001b[0;34m:\u001b[0m\u001b[0;34m\u001b[0m\u001b[0m\n\u001b[0;32m----> 4\u001b[0;31m         \u001b[0mtotal\u001b[0m \u001b[0;34m+=\u001b[0m \u001b[0mexp\u001b[0m\u001b[0;34m(\u001b[0m\u001b[0mk\u001b[0m \u001b[0;34m*\u001b[0m \u001b[0mlog\u001b[0m\u001b[0;34m(\u001b[0m\u001b[0mbeta_1\u001b[0m\u001b[0;34m)\u001b[0m \u001b[0;34m+\u001b[0m \u001b[0malpha_2\u001b[0m \u001b[0;34m*\u001b[0m \u001b[0mlogbeta_2\u001b[0m\u001b[0;34m)\u001b[0m                  \u001b[0;34m-\u001b[0m \u001b[0;34m(\u001b[0m\u001b[0mk\u001b[0m\u001b[0;34m+\u001b[0m\u001b[0malpha_2\u001b[0m\u001b[0;34m)\u001b[0m \u001b[0;34m*\u001b[0m \u001b[0mlog\u001b[0m\u001b[0;34m(\u001b[0m\u001b[0mbeta_1\u001b[0m \u001b[0;34m+\u001b[0m \u001b[0mbeta_2\u001b[0m\u001b[0;34m)\u001b[0m                  \u001b[0;34m-\u001b[0m \u001b[0mlog\u001b[0m\u001b[0;34m(\u001b[0m\u001b[0mk\u001b[0m \u001b[0;34m+\u001b[0m \u001b[0malpha_2\u001b[0m\u001b[0;34m)\u001b[0m \u001b[0;34m-\u001b[0m \u001b[0mlbeta\u001b[0m\u001b[0;34m(\u001b[0m\u001b[0mk\u001b[0m \u001b[0;34m+\u001b[0m \u001b[0;36m1\u001b[0m\u001b[0;34m,\u001b[0m \u001b[0malpha_2\u001b[0m\u001b[0;34m)\u001b[0m\u001b[0;34m\u001b[0m\u001b[0m\n\u001b[0m\u001b[1;32m      5\u001b[0m \u001b[0;34m\u001b[0m\u001b[0m\n\u001b[1;32m      6\u001b[0m     \u001b[0;32mreturn\u001b[0m \u001b[0mtotal\u001b[0m\u001b[0;34m\u001b[0m\u001b[0m\n",
      "\u001b[0;31mNameError\u001b[0m: name 'exp' is not defined"
     ]
    }
   ],
   "source": [
    "def prob_1_beats_2(alpha_1, beta_1, alpha_2, beta_2):\n",
    "    total = 0.0\n",
    "    for k in range(0,(alpha_1-1)):\n",
    "        total += exp(k * log(beta_1) + alpha_2 * logbeta_2) \\\n",
    "                 - (k+alpha_2) * log(beta_1 + beta_2) \\\n",
    "                 - log(k + alpha_2) - lbeta(k + 1, alpha_2)\n",
    "\n",
    "    return total\n",
    "\n",
    "prob_1_beats_2(10,50,25,25)"
   ]
  }
 ],
 "metadata": {
  "kernelspec": {
   "display_name": "Python 3",
   "language": "python",
   "name": "python3"
  },
  "language_info": {
   "codemirror_mode": {
    "name": "ipython",
    "version": 3
   },
   "file_extension": ".py",
   "mimetype": "text/x-python",
   "name": "python",
   "nbconvert_exporter": "python",
   "pygments_lexer": "ipython3",
   "version": "3.7.0"
  }
 },
 "nbformat": 4,
 "nbformat_minor": 2
}

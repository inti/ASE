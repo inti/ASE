{
 "cells": [
  {
   "cell_type": "code",
   "execution_count": 1,
   "metadata": {},
   "outputs": [],
   "source": [
    "import pandas as pd\n",
    "import pystan\n",
    "import numpy as np"
   ]
  },
  {
   "cell_type": "code",
   "execution_count": 2,
   "metadata": {},
   "outputs": [
    {
     "data": {
      "text/plain": [
       "array([0.01      , 0.16666667, 0.33333333, 0.53      , 0.66666667,\n",
       "       0.83333333, 0.99      ])"
      ]
     },
     "execution_count": 2,
     "metadata": {},
     "output_type": "execute_result"
    }
   ],
   "source": [
    "def get_mus(K=3, center=0.5, denom_val = 2):\n",
    "    mus = np.zeros(K)\n",
    "    center_idx = int(0.5*(K-1))\n",
    "    mus[ center_idx ] = 0.5\n",
    "    denominator = np.sqrt(denom_val)\n",
    "    for i in range(int(K - 0.5*(K-1)),K):\n",
    "      mus[i] = mus[i-1]/denominator;\n",
    "      mus[K - i - 1] = 1 - mus[i-1]/denominator;\n",
    "        \n",
    "    print(mus)\n",
    "\n",
    "def get_mus_log(K=3, center=0.5):\n",
    "    start = np.log(1)\n",
    "    end=np.log(0.5)\n",
    "    step= (end - start)/((K-1)/2)\n",
    "    mus = np.sort(\n",
    "        np.hstack(\n",
    "            [np.exp(np.arange(start,end,step)),\n",
    "            0.5,\n",
    "            1 - np.exp(np.arange(start,end,step))]\n",
    "        )\n",
    "    )\n",
    "\n",
    "    mus[mus == 0] = 0.01\n",
    "    mus[mus == 1] = 0.99\n",
    "    return mus\n",
    "\n",
    "def get_mu_linear(K=3):\n",
    "    back = np.sort(np.hstack([np.arange(0,1.0,1.0/(K-1))] + [.99]))\n",
    "    back[back == 0] = 0.01\n",
    "    back[back == 1] = 0.99\n",
    "    back[back == 0.5] = 0.53\n",
    "\n",
    "\n",
    "    return back\n",
    "\n",
    "    \n",
    "def get_prior_counts(K=3, center_prop=0.9):\n",
    "    pc = np.ones(K)\n",
    "    pc[int(0.5*(K-1))] = 10\n",
    "    return pc\n",
    "\n",
    "get_mu_linear(K=7)\n"
   ]
  },
  {
   "cell_type": "code",
   "execution_count": 3,
   "metadata": {},
   "outputs": [
    {
     "data": {
      "text/plain": [
       "array([0.        , 0.08005974, 0.14825058, 0.16652904, 0.25992105,\n",
       "       0.28551203, 0.36079   , 0.41259895, 0.46973449, 0.5       ,\n",
       "       0.53026551, 0.58740105, 0.63921   , 0.71448797, 0.74007895,\n",
       "       0.83347096, 0.85174942, 0.91994026, 1.        ])"
      ]
     },
     "execution_count": 3,
     "metadata": {},
     "output_type": "execute_result"
    }
   ],
   "source": [
    "K=19\n",
    "start = np.log(1)\n",
    "end=np.log(0.5)\n",
    "step= (end - start)/((K-1)/2)\n",
    "\n",
    "\n",
    "np.sort(\n",
    "        np.hstack(\n",
    "            [(np.exp(np.arange(end,start,-step)) - 0.5)/0.5,\n",
    "            0.5,\n",
    "            1 - (np.exp(np.arange(end,start,-step)) - 0.5)/0.5]\n",
    "        )\n",
    "    )"
   ]
  },
  {
   "cell_type": "code",
   "execution_count": 4,
   "metadata": {},
   "outputs": [],
   "source": [
    "folders = !ls /Users/inti.pedroso/DATA/ASE/phaser/\n",
    "data = pd.concat([ pd.read_table(\"\".join([\"/Users/inti.pedroso/DATA/ASE/phaser/\",f,\"/\",f,\".phaser_ase.gene.txt\"])) for f in folders ])\n"
   ]
  },
  {
   "cell_type": "code",
   "execution_count": 5,
   "metadata": {},
   "outputs": [
    {
     "data": {
      "text/plain": [
       "(8194, 12)"
      ]
     },
     "execution_count": 5,
     "metadata": {},
     "output_type": "execute_result"
    }
   ],
   "source": [
    "#data = pd.read_table(\"/Users/inti.pedroso/DATA/ASE/phaser/ERR883767/ERR883767.phaser_ase.gene.txt\")\n",
    "data.head()\n",
    "data2 = data[data[\"totalCount\"] > 10]\n",
    "data2.shape"
   ]
  },
  {
   "cell_type": "markdown",
   "metadata": {},
   "source": [
    "### Dirichlet Prios Mixture\n",
    "\n",
    "$$G \\alpha = \\sum_{k=1}^{\\infty} = DP(\\alpha, BB(a_0,b_0))$$\n",
    "\n",
    "Stick Breaking Prior\n",
    "\n",
    "$$\\pi_c = \\upsilon_c \\prod_{i=1}^{c-1}(1-\\upsilon_i)$$\n",
    "\n"
   ]
  },
  {
   "cell_type": "code",
   "execution_count": 6,
   "metadata": {},
   "outputs": [
    {
     "name": "stdout",
     "output_type": "stream",
     "text": [
      "Overwriting /Users/inti.pedroso/DATA/ASE/mixture_BBv5.stan\n"
     ]
    }
   ],
   "source": [
    "%%file /Users/inti.pedroso/DATA/ASE/mixture_BBv5.stan\n",
    "data {\n",
    "  int<lower=1> N; // total number of observations\n",
    "  int<lower=1> K; // total number of mixture distributions\n",
    "  int<lower=0> x[N]; // counts for one allele\n",
    "  int<lower=0> n[N]; // total counts for unit\n",
    "  real<lower=0,upper=1> mu[K]; // means of mixture distributions\n",
    "}\n",
    "parameters {\n",
    "  vector<lower=2>[K] M; // M_k = alpha_k + _beta_k. <lower=5,upper=1000>\n",
    "  real <lower=0,upper=1> v[K];\n",
    "}\n",
    "\n",
    "transformed parameters{\n",
    "  simplex[K] theta; // mixture proportions\n",
    "  theta[1] = v[1];\n",
    "  // stick-break process based on The BUGS book Chapter 11 (p.294)\n",
    "  for(j in 2:(K-1)){\n",
    "      theta[j]= v[j]*(1-v[j-1])*theta[j-1]/v[j-1]; \n",
    "  }\n",
    "  theta[K]=1-sum(theta[1:(K-1)]); // to make a simplex.\n",
    "\n",
    "}\n",
    "\n",
    "model {\n",
    "  // clusters parameters\n",
    "  real alpha[K]; \n",
    "  real beta[K];\n",
    "  // parameters for stick breaking prior for mixture coefficients\n",
    "  real alpha_SB = 1;    \n",
    "  vector[K] log_theta = log(theta); // cache log calculation\n",
    "  // alpha and beta parameters for each of the K distributions\n",
    "  for (k in 1:K) {\n",
    "    alpha[k] = mu[k]*M[k];\n",
    "    beta[k] = (1-mu[k])*M[k];\n",
    "  }\n",
    "\n",
    "  v ~ beta(1,alpha_SB);\n",
    "  // priors for each component \n",
    "  M ~ pareto(0.1, 1.5);\n",
    "  print(\"mu: \", mu)\n",
    "  print(\"M: \", M)\n",
    "  print(\"v: \", v)\n",
    "  print(\"theta: \", theta)\n",
    "\n",
    "\n",
    "  // likelihood \n",
    "  for (i in 1:N) {\n",
    "    vector[K] lps = log_theta;\n",
    "    for (k in 1:K)\n",
    "      lps[k] += beta_binomial_lpmf(x[i]|n[i], alpha[k], beta[k]);\n",
    "    target += log_sum_exp(lps);\n",
    "  } \n",
    "}"
   ]
  },
  {
   "cell_type": "code",
   "execution_count": 7,
   "metadata": {},
   "outputs": [
    {
     "name": "stdout",
     "output_type": "stream",
     "text": [
      "Overwriting /Users/inti.pedroso/DATA/ASE/mixture_BBv4.stan\n"
     ]
    }
   ],
   "source": [
    "%%file /Users/inti.pedroso/DATA/ASE/mixture_BBv4.stan\n",
    "data {\n",
    "  int<lower=1> N; // total number of observations\n",
    "  int<lower=1> K; // total number of mixture distributions\n",
    "  int<lower=0> x[N]; // counts for one allele\n",
    "  int<lower=0> n[N]; // total counts for unit\n",
    "  real<lower=0,upper=1> mu[K]; // means of mixture distributions\n",
    "}\n",
    "parameters {\n",
    "  simplex[K] kappa; // prior count proportions\n",
    "  real<lower=10,upper=600> dirMass; // Total mass for dirichlet prior\n",
    "  simplex[K] theta; // mixture proportions\n",
    "  vector<lower=2>[K] M; // M_k = alpha_k + _beta_k. <lower=5,upper=1000>\n",
    "} \n",
    "model {\n",
    "  real alpha[K];\n",
    "  real beta[K];\n",
    "  vector[K] lambda; // prior pseudocounts for each mixture distribution\n",
    "\n",
    "  vector[K] log_theta = log(theta); // cache log calculation\n",
    "  // alpha and beta parameters for each of the K distributions\n",
    "  for (k in 1:K) {\n",
    "    alpha[k] = mu[k]*M[k];\n",
    "    beta[k] = (1-mu[k])*M[k];\n",
    "    lambda[k] = kappa[k]*dirMass;\n",
    "  }\n",
    "\n",
    "  // priors for allocations proportions. This are fixed\n",
    "  theta ~ dirichlet(lambda);\n",
    "  // priors for each component \n",
    "  M ~ pareto(0.1, 1.5);\n",
    "    \n",
    "  // likelihood \n",
    "  for (i in 1:N) {\n",
    "    vector[K] lps = log_theta;\n",
    "    for (k in 1:K)\n",
    "      lps[k] += beta_binomial_lpmf(x[i]|n[i], alpha[k], beta[k]);\n",
    "    target += log_sum_exp(lps);\n",
    "  } \n",
    "}"
   ]
  },
  {
   "cell_type": "code",
   "execution_count": 11,
   "metadata": {},
   "outputs": [
    {
     "data": {
      "text/plain": [
       "(904, 12)"
      ]
     },
     "execution_count": 11,
     "metadata": {},
     "output_type": "execute_result"
    }
   ],
   "source": [
    "data2 = data[data[\"totalCount\"] > 100]\n",
    "K=5\n",
    "dat2stan = {'N': data2.shape[0],\n",
    "            'K':K,\n",
    "            'mu': get_mu_linear(K),\n",
    "            'lambda': get_prior_counts(K=K),\n",
    "            'x': data2.aCount.values,\n",
    "            'n': data2.totalCount.values\n",
    "           }\n",
    "data2.shape"
   ]
  },
  {
   "cell_type": "code",
   "execution_count": 9,
   "metadata": {},
   "outputs": [
    {
     "data": {
      "text/plain": [
       "array([0.01, 0.25, 0.53, 0.75, 0.99])"
      ]
     },
     "execution_count": 9,
     "metadata": {},
     "output_type": "execute_result"
    }
   ],
   "source": [
    "get_mu_linear(5)"
   ]
  },
  {
   "cell_type": "code",
   "execution_count": 32,
   "metadata": {},
   "outputs": [],
   "source": [
    "%matplotlib inline\n",
    "\n",
    "import numpy as np\n",
    "import matplotlib.pyplot as plt\n",
    "\n",
    "plt.style.use('seaborn') # pretty matplotlib plots\n",
    "plt.rcParams['figure.figsize'] = (12, 8)\n",
    "import scipy.stats as ss\n",
    "\n",
    "def plot_normal(x_range, mu=0, sigma=1, cdf=False, **kwargs):\n",
    "    '''\n",
    "    Plots the normal distribution function for a given x range\n",
    "    If mu and sigma are not provided, standard normal is plotted\n",
    "    If cdf=True cumulative distribution is plotted\n",
    "    Passes any keyword arguments to matplotlib plot function\n",
    "    '''\n",
    "    x = x_range\n",
    "    if cdf:\n",
    "        y = ss.norm.cdf(x, mu, sigma)\n",
    "    else:\n",
    "        y = ss.norm.pdf(x, mu, sigma)\n",
    "    plt.plot(x, y, **kwargs)\n",
    "    \n",
    "def plot_beta(x_range, alpha=1, beta=1, cdf=False, w = 1, **kwargs):\n",
    "    '''\n",
    "    Plots the normal distribution function for a given x range\n",
    "    If mu and sigma are not provided, standard normal is plotted\n",
    "    If cdf=True cumulative distribution is plotted\n",
    "    Passes any keyword arguments to matplotlib plot function\n",
    "    '''\n",
    "    x = x_range\n",
    "    if cdf:\n",
    "        y = ss.beta.cdf(x, alpha, beta)\n",
    "    else:\n",
    "        y = w*ss.beta.pdf(x, alpha, beta)\n",
    "    plt.plot(x, y,color='black', **kwargs)"
   ]
  },
  {
   "cell_type": "code",
   "execution_count": 12,
   "metadata": {},
   "outputs": [
    {
     "name": "stderr",
     "output_type": "stream",
     "text": [
      "INFO:pystan:COMPILING THE C++ CODE FOR MODEL anon_model_91e5b94e629315640e3136a68cf4a2af NOW.\n"
     ]
    }
   ],
   "source": [
    "sm_BB = pystan.StanModel(file=\"/Users/inti.pedroso/DATA/ASE/mixture_BBv4.stan\")\n",
    "\n",
    "\n"
   ]
  },
  {
   "cell_type": "code",
   "execution_count": 11,
   "metadata": {},
   "outputs": [
    {
     "name": "stderr",
     "output_type": "stream",
     "text": [
      "/Users/inti.pedroso/anaconda2/envs/ase_dev/lib/python3.7/site-packages/pystan/misc.py:399: FutureWarning: Conversion of the second argument of issubdtype from `float` to `np.floating` is deprecated. In future, it will be treated as `np.float64 == np.dtype(float).type`.\n",
      "  elif np.issubdtype(np.asarray(v).dtype, float):\n",
      "WARNING:pystan:Automatic Differentiation Variational Inference (ADVI) is an EXPERIMENTAL ALGORITHM.\n",
      "WARNING:pystan:ADVI samples may be found on the filesystem in the file `/var/folders/yt/p39gwb910ys3dl075j1qwbnw0000gn/T/tmp6jc_r6ma/output.csv`\n"
     ]
    }
   ],
   "source": [
    "fit_vb = sm_BB.vb(data=dat2stan, tol_rel_obj = 1e-3)"
   ]
  },
  {
   "cell_type": "code",
   "execution_count": 13,
   "metadata": {},
   "outputs": [
    {
     "name": "stderr",
     "output_type": "stream",
     "text": [
      "INFO:pystan:COMPILING THE C++ CODE FOR MODEL anon_model_ff8af9f85e2a84f6fee272ba120621c6 NOW.\n"
     ]
    }
   ],
   "source": [
    "sm_BB_DPM = pystan.StanModel(file=\"/Users/inti.pedroso/DATA/ASE/mixture_BBv5.stan\")\n",
    "#sm_BB_dirPrior = pystan.StanModel(file=\"/Users/inti.pedroso/DATA/ASE/mixture_BB_dirPrior.stan\")"
   ]
  },
  {
   "cell_type": "code",
   "execution_count": null,
   "metadata": {},
   "outputs": [],
   "source": [
    "#fit_DPM_vb = sm_BB_DPM.vb(data=dat2stan, tol_rel_obj = 1e-3)\n",
    "fit_DPM_vb = fit_DPM_vb.sampling(data=dat2stan, iter=1000, chains=2, n_jobs=1)"
   ]
  },
  {
   "cell_type": "code",
   "execution_count": 90,
   "metadata": {},
   "outputs": [
    {
     "data": {
      "text/plain": [
       "(array([ 41.,  26.,  37.,  59.,  44.,  50.,  54.,  43.,  59.,  73.,  74.,\n",
       "         71.,  83.,  90.,  33., 151., 150., 115., 114., 139., 226., 209.,\n",
       "        334., 299., 489., 205., 393., 452., 365., 369., 278., 258., 193.,\n",
       "        288., 245., 111., 188., 147., 211., 192., 157., 142., 136., 158.,\n",
       "        158., 117., 118.,  98.,  75.,  77.]),\n",
       " array([0.07692308, 0.09387518, 0.11082729, 0.12777939, 0.14473149,\n",
       "        0.1616836 , 0.1786357 , 0.19558781, 0.21253991, 0.22949202,\n",
       "        0.24644412, 0.26339623, 0.28034833, 0.29730044, 0.31425254,\n",
       "        0.33120464, 0.34815675, 0.36510885, 0.38206096, 0.39901306,\n",
       "        0.41596517, 0.43291727, 0.44986938, 0.46682148, 0.48377358,\n",
       "        0.50072569, 0.51767779, 0.5346299 , 0.551582  , 0.56853411,\n",
       "        0.58548621, 0.60243832, 0.61939042, 0.63634253, 0.65329463,\n",
       "        0.67024673, 0.68719884, 0.70415094, 0.72110305, 0.73805515,\n",
       "        0.75500726, 0.77195936, 0.78891147, 0.80586357, 0.82281567,\n",
       "        0.83976778, 0.85671988, 0.87367199, 0.89062409, 0.9075762 ,\n",
       "        0.9245283 ]),\n",
       " <a list of 50 Patch objects>)"
      ]
     },
     "execution_count": 90,
     "metadata": {},
     "output_type": "execute_result"
    },
    {
     "data": {
      "image/png": "[encoded data removed]",
      "text/plain": [
       "<Figure size 432x288 with 1 Axes>"
      ]
     },
     "metadata": {},
     "output_type": "display_data"
    }
   ],
   "source": [
    "x = np.linspace(0, 1, 500)\n",
    "kappa = fit_vb['mean_pars'][1:K]\n",
    "dirMass = fit_vb['mean_pars'][K]\n",
    "theta = fit_vb['mean_pars'][K+1:(2*K+1)]\n",
    "Ms = fit_vb['mean_pars'][(2*K+1):]\n",
    "\n",
    "pars = pd.DataFrame([dat2stan['mu'],theta,Ms,dat2stan['mu']*Ms, (1-dat2stan['mu'])*Ms ],\n",
    "             index=[\"mu\",\"theta\",\"M\",\"alpha\",\"beta\"]).T\n",
    "\n",
    "for i in np.arange(len(Ms)):\n",
    "    m = pars.loc[i,\"mu\"]\n",
    "    M= pars.loc[i,\"M\"]\n",
    "    w = 60*pars.loc[i,\"theta\"]\n",
    "    plot_beta(x, alpha=m*M,beta=(1-m)*M, w= 2*w)\n",
    "\n",
    "plt.hist(dat2stan['x']/dat2stan['n'],bins=50)"
   ]
  },
  {
   "cell_type": "code",
   "execution_count": 87,
   "metadata": {},
   "outputs": [
    {
     "data": {
      "text/html": [
       "<div>\n",
       "<style scoped>\n",
       "    .dataframe tbody tr th:only-of-type {\n",
       "        vertical-align: middle;\n",
       "    }\n",
       "\n",
       "    .dataframe tbody tr th {\n",
       "        vertical-align: top;\n",
       "    }\n",
       "\n",
       "    .dataframe thead th {\n",
       "        text-align: right;\n",
       "    }\n",
       "</style>\n",
       "<table border=\"1\" class=\"dataframe\">\n",
       "  <thead>\n",
       "    <tr style=\"text-align: right;\">\n",
       "      <th></th>\n",
       "      <th>mu</th>\n",
       "      <th>theta</th>\n",
       "      <th>M</th>\n",
       "      <th>alpha</th>\n",
       "      <th>beta</th>\n",
       "    </tr>\n",
       "  </thead>\n",
       "  <tbody>\n",
       "    <tr>\n",
       "      <th>0</th>\n",
       "      <td>0.01</td>\n",
       "      <td>0.000007</td>\n",
       "      <td>3.253762</td>\n",
       "      <td>0.032538</td>\n",
       "      <td>3.221224</td>\n",
       "    </tr>\n",
       "    <tr>\n",
       "      <th>1</th>\n",
       "      <td>0.10</td>\n",
       "      <td>0.000022</td>\n",
       "      <td>3.351682</td>\n",
       "      <td>0.335168</td>\n",
       "      <td>3.016514</td>\n",
       "    </tr>\n",
       "    <tr>\n",
       "      <th>2</th>\n",
       "      <td>0.20</td>\n",
       "      <td>0.051552</td>\n",
       "      <td>84.950288</td>\n",
       "      <td>16.990058</td>\n",
       "      <td>67.960231</td>\n",
       "    </tr>\n",
       "    <tr>\n",
       "      <th>3</th>\n",
       "      <td>0.30</td>\n",
       "      <td>0.000154</td>\n",
       "      <td>4.230834</td>\n",
       "      <td>1.269250</td>\n",
       "      <td>2.961584</td>\n",
       "    </tr>\n",
       "    <tr>\n",
       "      <th>4</th>\n",
       "      <td>0.40</td>\n",
       "      <td>0.125440</td>\n",
       "      <td>25.267442</td>\n",
       "      <td>10.106977</td>\n",
       "      <td>15.160465</td>\n",
       "    </tr>\n",
       "    <tr>\n",
       "      <th>5</th>\n",
       "      <td>0.53</td>\n",
       "      <td>0.472021</td>\n",
       "      <td>545.158618</td>\n",
       "      <td>288.934067</td>\n",
       "      <td>256.224550</td>\n",
       "    </tr>\n",
       "    <tr>\n",
       "      <th>6</th>\n",
       "      <td>0.60</td>\n",
       "      <td>0.002784</td>\n",
       "      <td>5.931256</td>\n",
       "      <td>3.558754</td>\n",
       "      <td>2.372502</td>\n",
       "    </tr>\n",
       "    <tr>\n",
       "      <th>7</th>\n",
       "      <td>0.70</td>\n",
       "      <td>0.347913</td>\n",
       "      <td>18.332979</td>\n",
       "      <td>12.833085</td>\n",
       "      <td>5.499894</td>\n",
       "    </tr>\n",
       "    <tr>\n",
       "      <th>8</th>\n",
       "      <td>0.80</td>\n",
       "      <td>0.000095</td>\n",
       "      <td>3.704303</td>\n",
       "      <td>2.963443</td>\n",
       "      <td>0.740861</td>\n",
       "    </tr>\n",
       "    <tr>\n",
       "      <th>9</th>\n",
       "      <td>0.90</td>\n",
       "      <td>0.000011</td>\n",
       "      <td>3.272868</td>\n",
       "      <td>2.945581</td>\n",
       "      <td>0.327287</td>\n",
       "    </tr>\n",
       "    <tr>\n",
       "      <th>10</th>\n",
       "      <td>0.99</td>\n",
       "      <td>0.000002</td>\n",
       "      <td>3.024728</td>\n",
       "      <td>2.994480</td>\n",
       "      <td>0.030247</td>\n",
       "    </tr>\n",
       "  </tbody>\n",
       "</table>\n",
       "</div>"
      ],
      "text/plain": [
       "      mu     theta           M       alpha        beta\n",
       "0   0.01  0.000007    3.253762    0.032538    3.221224\n",
       "1   0.10  0.000022    3.351682    0.335168    3.016514\n",
       "2   0.20  0.051552   84.950288   16.990058   67.960231\n",
       "3   0.30  0.000154    4.230834    1.269250    2.961584\n",
       "4   0.40  0.125440   25.267442   10.106977   15.160465\n",
       "5   0.53  0.472021  545.158618  288.934067  256.224550\n",
       "6   0.60  0.002784    5.931256    3.558754    2.372502\n",
       "7   0.70  0.347913   18.332979   12.833085    5.499894\n",
       "8   0.80  0.000095    3.704303    2.963443    0.740861\n",
       "9   0.90  0.000011    3.272868    2.945581    0.327287\n",
       "10  0.99  0.000002    3.024728    2.994480    0.030247"
      ]
     },
     "execution_count": 87,
     "metadata": {},
     "output_type": "execute_result"
    }
   ],
   "source": [
    "pars"
   ]
  },
  {
   "cell_type": "code",
   "execution_count": 91,
   "metadata": {},
   "outputs": [
    {
     "data": {
      "text/plain": [
       "11.752131340416597"
      ]
     },
     "execution_count": 91,
     "metadata": {},
     "output_type": "execute_result"
    }
   ],
   "source": [
    "dirMass"
   ]
  },
  {
   "cell_type": "code",
   "execution_count": null,
   "metadata": {},
   "outputs": [],
   "source": [
    "print(fit_vb['args']['sample_file'])\n",
    "d = pd.read_csv(\"/var/folders/yt/p39gwb910ys3dl075j1qwbnw0000gn/T/tmphweng8ln/output.csv\", skiprows=200)\n",
    "d.head()"
   ]
  },
  {
   "cell_type": "code",
   "execution_count": null,
   "metadata": {},
   "outputs": [],
   "source": [
    "%time fit = sm_BB.sampling(data=dat2stan, iter=1000, chains=2, n_jobs=1)"
   ]
  },
  {
   "cell_type": "code",
   "execution_count": null,
   "metadata": {},
   "outputs": [],
   "source": [
    "?sm_BB.sampling"
   ]
  },
  {
   "cell_type": "code",
   "execution_count": null,
   "metadata": {},
   "outputs": [],
   "source": []
  },
  {
   "cell_type": "code",
   "execution_count": null,
   "metadata": {},
   "outputs": [],
   "source": []
  },
  {
   "cell_type": "code",
   "execution_count": null,
   "metadata": {},
   "outputs": [],
   "source": [
    "print(fit.stansummary())"
   ]
  },
  {
   "cell_type": "code",
   "execution_count": null,
   "metadata": {},
   "outputs": [],
   "source": [
    "from scipy.special import gammaln\n",
    "from scipy.misc import logsumexp\n",
    "\n",
    "def log_dbetabinomial(x,n,a,b):\n",
    "    return gammaln(n+1) + gammaln(x+a) + gammaln(n-x+b) + gammaln(a+b) - \\\n",
    "        (gammaln(x+1) + gammaln(n-x+1) + gammaln(a) + gammaln(b) + gammaln(n+a+b))\n",
    "\n",
    "log_dbetabinomial(10,50,25,25)\n",
    "\n",
    "class DirMult:\n",
    "    def __init__(self,K=3,prior_counts = None):\n",
    "        if prior_counts is not None:\n",
    "            self.prior_counts = prior_counts\n",
    "        else: \n",
    "            self.prior_counts = np.ones(K)\n",
    "        \n",
    "        self.alpha = self.prior_counts\n",
    "\n",
    "    \n",
    "    def update(self,counts = None):\n",
    "        self.alpha += counts\n",
    "            \n",
    "d = dirich(prior_counts=pr_ct)\n",
    "print(d.prior_counts)\n",
    "d.update(pr_ct)\n",
    "print(d.alpha)\n",
    "\n"
   ]
  },
  {
   "cell_type": "code",
   "execution_count": null,
   "metadata": {},
   "outputs": [],
   "source": [
    "K=3\n",
    "N=5\n",
    "pr_ct = get_prior_counts(K=K)\n",
    "params = dict(K=K,\n",
    "              N=N,\n",
    "              pi=np.ones(K,dtype=np.float)/K,\n",
    "              alpha=pr_ct\n",
    "              \n",
    "             )\n",
    "params"
   ]
  },
  {
   "cell_type": "code",
   "execution_count": null,
   "metadata": {},
   "outputs": [],
   "source": [
    "data2 = data[data[\"totalCount\"] > 100]\n",
    "data2.shape"
   ]
  },
  {
   "cell_type": "code",
   "execution_count": null,
   "metadata": {},
   "outputs": [],
   "source": [
    "data2.head()"
   ]
  },
  {
   "cell_type": "code",
   "execution_count": null,
   "metadata": {},
   "outputs": [],
   "source": [
    "mult = get_mus_log(K=5)\n",
    "pr_ct = get_prior_counts(K=5)\n",
    "pr_ct\n"
   ]
  },
  {
   "cell_type": "code",
   "execution_count": null,
   "metadata": {},
   "outputs": [],
   "source": [
    "for i in xr"
   ]
  },
  {
   "cell_type": "code",
   "execution_count": null,
   "metadata": {},
   "outputs": [],
   "source": [
    "def prob_1_beats_2(alpha_1, beta_1, alpha_2, beta_2):\n",
    "    total = 0.0\n",
    "    for k in range(0,(alpha_1-1)):\n",
    "        total += exp(k * log(beta_1) + alpha_2 * logbeta_2) \\\n",
    "                 - (k+alpha_2) * log(beta_1 + beta_2) \\\n",
    "                 - log(k + alpha_2) - lbeta(k + 1, alpha_2)\n",
    "\n",
    "    return total\n",
    "\n",
    "prob_1_beats_2(10,50,25,25)"
   ]
  }
 ],
 "metadata": {
  "kernelspec": {
   "display_name": "Python 3",
   "language": "python",
   "name": "python3"
  },
  "language_info": {
   "codemirror_mode": {
    "name": "ipython",
    "version": 3
   },
   "file_extension": ".py",
   "mimetype": "text/x-python",
   "name": "python",
   "nbconvert_exporter": "python",
   "pygments_lexer": "ipython3",
   "version": "3.7.0"
  }
 },
 "nbformat": 4,
 "nbformat_minor": 2
}

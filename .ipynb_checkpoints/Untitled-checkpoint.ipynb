{
 "cells": [
  {
   "cell_type": "code",
   "execution_count": 1,
   "metadata": {},
   "outputs": [],
   "source": [
    "import pandas as pd\n",
    "import pystan\n",
    "import numpy as np"
   ]
  },
  {
   "cell_type": "code",
   "execution_count": 13,
   "metadata": {},
   "outputs": [
    {
     "data": {
      "text/plain": [
       "array([0.01      , 0.20629947, 0.37003948, 0.5       , 0.62996052,\n",
       "       0.79370053, 0.99      ])"
      ]
     },
     "execution_count": 13,
     "metadata": {},
     "output_type": "execute_result"
    }
   ],
   "source": [
    "def get_mus(K=3, center=0.5, denom_val = 2):\n",
    "    mus = np.zeros(K)\n",
    "    center_idx = int(0.5*(K-1))\n",
    "    mus[ center_idx ] = 0.5\n",
    "    denominator = np.sqrt(denom_val)\n",
    "    for i in range(int(K - 0.5*(K-1)),K):\n",
    "      mus[i] = mus[i-1]/denominator;\n",
    "      mus[K - i - 1] = 1 - mus[i-1]/denominator;\n",
    "        \n",
    "    print(mus)\n",
    "\n",
    "def get_mus_log(K=3, center=0.5):\n",
    "    start = np.log(1)\n",
    "    end=np.log(0.5)\n",
    "    step= (end - start)/((K-1)/2)\n",
    "    mus = np.sort(\n",
    "        np.hstack(\n",
    "            [np.exp(np.arange(start,end,step)),\n",
    "            0.5,\n",
    "            1 - np.exp(np.arange(start,end,step))]\n",
    "        )\n",
    "    )\n",
    "\n",
    "    mus[mus == 0] = 0.01\n",
    "    mus[mus == 1] = 0.99\n",
    "    return mus\n",
    "\n",
    "def get_prior_counts(K=3, center_prop=0.9):\n",
    "    pc = np.ones(K)\n",
    "    pc[int(0.5*(K-1))] = 10\n",
    "    return pc\n",
    "\n",
    "get_mus_log(K=7)\n"
   ]
  },
  {
   "cell_type": "code",
   "execution_count": 41,
   "metadata": {},
   "outputs": [],
   "source": [
    "data = pd.read_table(\"/Users/inti.pedroso/DATA/ASE/phaser/ERR883767/ERR883767.phaser_ase.gene.txt\")\n",
    "data.head()\n",
    "data2 = data[data[\"totalCount\"] > 6]"
   ]
  },
  {
   "cell_type": "code",
   "execution_count": 42,
   "metadata": {},
   "outputs": [
    {
     "name": "stdout",
     "output_type": "stream",
     "text": [
      "Overwriting /Users/inti.pedroso/DATA/ASE/mixture_BBv4.stan\n"
     ]
    }
   ],
   "source": [
    "%%file /Users/inti.pedroso/DATA/ASE/mixture_BBv4.stan\n",
    "data {\n",
    "  int<lower=1> N; // total number of observations\n",
    "  int<lower=1> K; // total number of mixture distributions\n",
    "  int<lower=0> x[N]; // counts for one allele\n",
    "  int<lower=0> n[N]; // total counts for unit\n",
    "  real<lower=0,upper=1> mu[K]; // means of mixture distributions\n",
    "}\n",
    "parameters {\n",
    "  simplex[K] kappa; // prior count proportions\n",
    "  real<lower=10,upper=500> dirMass; // Total mass for dirichlet prior\n",
    "  simplex[K] theta; // mixture proportions\n",
    "  vector<lower=0.1>[K] M; // M_k = alpha_k + _beta_k\n",
    "} \n",
    "model {\n",
    "  real alpha[K];\n",
    "  real beta[K];\n",
    "  vector[K] lambda; // prior pseudocounts for each mixture distribution\n",
    "\n",
    "  vector[K] log_theta = log(theta); // cache log calculation\n",
    "  // alpha and beta parameters for each of the K distributions\n",
    "  for (k in 1:K) {\n",
    "    alpha[k] = mu[k]*M[k];\n",
    "    beta[k] = (1-mu[k])*M[k];\n",
    "    lambda[k] = kappa[k]*dirMass;\n",
    "  }\n",
    "\n",
    "  // priors for allocations proportions. This are fixed\n",
    "  theta ~ dirichlet(lambda);\n",
    "  // priors for each component \n",
    "  M ~ pareto(0.1, 1.5);\n",
    "  // likelihood \n",
    "  for (i in 1:N) {\n",
    "    vector[K] lps = log_theta;\n",
    "    for (k in 1:K)\n",
    "      lps[k] += beta_binomial_lpmf(x[i]|n[i], alpha[k], beta[k]);\n",
    "    target += log_sum_exp(lps);\n",
    "  } \n",
    "}"
   ]
  },
  {
   "cell_type": "code",
   "execution_count": 31,
   "metadata": {},
   "outputs": [],
   "source": [
    "data2 = data[data[\"totalCount\"] > 100]\n",
    "K=7\n",
    "dat2stan = {'N': data2.shape[0],\n",
    "            'K':K,\n",
    "            'mu': get_mus_log(K=K),\n",
    "            'lambda': get_prior_counts(K=K),\n",
    "            'x': data2.aCount.values,\n",
    "            'n': data2.totalCount.values\n",
    "           }"
   ]
  },
  {
   "cell_type": "code",
   "execution_count": 38,
   "metadata": {},
   "outputs": [
    {
     "name": "stderr",
     "output_type": "stream",
     "text": [
      "INFO:pystan:COMPILING THE C++ CODE FOR MODEL anon_model_fce007033be9933bb8ff82021b06b18f NOW.\n"
     ]
    }
   ],
   "source": [
    "\n",
    "sm_BB = pystan.StanModel(file=\"/Users/inti.pedroso/DATA/ASE/mixture_BBv4.stan\")\n",
    "#sm_BB_dirPrior = pystan.StanModel(file=\"/Users/inti.pedroso/DATA/ASE/mixture_BB_dirPrior.stan\")\n",
    "\n",
    "\n",
    "\n"
   ]
  },
  {
   "cell_type": "code",
   "execution_count": 34,
   "metadata": {},
   "outputs": [],
   "source": [
    "?sm_BB.vb"
   ]
  },
  {
   "cell_type": "code",
   "execution_count": null,
   "metadata": {},
   "outputs": [],
   "source": [
    "\n",
    "fit_vb = sm_BB.vb(data=dat2stan, tol_rel_obj = 1e-4)"
   ]
  },
  {
   "cell_type": "code",
   "execution_count": null,
   "metadata": {},
   "outputs": [],
   "source": [
    "pd.DataFrame([fit_vb['sampler_param_names'],fit_vb['mean_pars']], index=[\"param\",\"mean\"]).T"
   ]
  },
  {
   "cell_type": "code",
   "execution_count": null,
   "metadata": {},
   "outputs": [],
   "source": [
    "fit_vb.keys()\n",
    "fit_vb['args']"
   ]
  },
  {
   "cell_type": "code",
   "execution_count": null,
   "metadata": {},
   "outputs": [],
   "source": [
    "print(fit_vb['args']['sample_file'])\n",
    "d = pd.read_csv(\"/var/folders/yt/p39gwb910ys3dl075j1qwbnw0000gn/T/tmphweng8ln/output.csv\", skiprows=200)\n",
    "d.head()"
   ]
  },
  {
   "cell_type": "code",
   "execution_count": null,
   "metadata": {},
   "outputs": [],
   "source": [
    "%time fit = sm_BB.sampling(data=dat2stan, iter=1000, chains=2, n_jobs=1)"
   ]
  },
  {
   "cell_type": "code",
   "execution_count": null,
   "metadata": {},
   "outputs": [],
   "source": [
    "?sm_BB.sampling"
   ]
  },
  {
   "cell_type": "code",
   "execution_count": null,
   "metadata": {},
   "outputs": [],
   "source": []
  },
  {
   "cell_type": "code",
   "execution_count": null,
   "metadata": {},
   "outputs": [],
   "source": []
  },
  {
   "cell_type": "code",
   "execution_count": null,
   "metadata": {},
   "outputs": [],
   "source": [
    "print(fit.stansummary())"
   ]
  },
  {
   "cell_type": "code",
   "execution_count": null,
   "metadata": {},
   "outputs": [],
   "source": [
    "from scipy.special import gammaln\n",
    "from scipy.misc import logsumexp\n",
    "\n",
    "def log_dbetabinomial(x,n,a,b):\n",
    "    return gammaln(n+1) + gammaln(x+a) + gammaln(n-x+b) + gammaln(a+b) - \\\n",
    "        (gammaln(x+1) + gammaln(n-x+1) + gammaln(a) + gammaln(b) + gammaln(n+a+b))\n",
    "\n",
    "log_dbetabinomial(10,50,25,25)\n",
    "\n",
    "class DirMult:\n",
    "    def __init__(self,K=3,prior_counts = None):\n",
    "        if prior_counts is not None:\n",
    "            self.prior_counts = prior_counts\n",
    "        else: \n",
    "            self.prior_counts = np.ones(K)\n",
    "        \n",
    "        self.alpha = self.prior_counts\n",
    "\n",
    "    \n",
    "    def update(self,counts = None):\n",
    "        self.alpha += counts\n",
    "            \n",
    "d = dirich(prior_counts=pr_ct)\n",
    "print(d.prior_counts)\n",
    "d.update(pr_ct)\n",
    "print(d.alpha)\n",
    "\n"
   ]
  },
  {
   "cell_type": "code",
   "execution_count": null,
   "metadata": {},
   "outputs": [],
   "source": [
    "K=3\n",
    "N=5\n",
    "pr_ct = get_prior_counts(K=K)\n",
    "params = dict(K=K,\n",
    "              N=N,\n",
    "              pi=np.ones(K,dtype=np.float)/K,\n",
    "              alpha=pr_ct\n",
    "              \n",
    "             )\n",
    "params"
   ]
  },
  {
   "cell_type": "code",
   "execution_count": null,
   "metadata": {},
   "outputs": [],
   "source": [
    "data2 = data[data[\"totalCount\"] > 100]\n",
    "data2.shape"
   ]
  },
  {
   "cell_type": "code",
   "execution_count": null,
   "metadata": {},
   "outputs": [],
   "source": [
    "data2.head()"
   ]
  },
  {
   "cell_type": "code",
   "execution_count": null,
   "metadata": {},
   "outputs": [],
   "source": [
    "mult = get_mus_log(K=5)\n",
    "pr_ct = get_prior_counts(K=5)\n",
    "pr_ct\n"
   ]
  },
  {
   "cell_type": "code",
   "execution_count": null,
   "metadata": {},
   "outputs": [],
   "source": [
    "for i in xr"
   ]
  },
  {
   "cell_type": "code",
   "execution_count": null,
   "metadata": {},
   "outputs": [],
   "source": [
    "def prob_1_beats_2(alpha_1, beta_1, alpha_2, beta_2):\n",
    "    total = 0.0\n",
    "    for k in range(0,(alpha_1-1)):\n",
    "        total += exp(k * log(beta_1) + alpha_2 * logbeta_2) \\\n",
    "                 - (k+alpha_2) * log(beta_1 + beta_2) \\\n",
    "                 - log(k + alpha_2) - lbeta(k + 1, alpha_2)\n",
    "\n",
    "    return total\n",
    "\n",
    "prob_1_beats_2(10,50,25,25)"
   ]
  }
 ],
 "metadata": {
  "kernelspec": {
   "display_name": "Python 3",
   "language": "python",
   "name": "python3"
  },
  "language_info": {
   "codemirror_mode": {
    "name": "ipython",
    "version": 3
   },
   "file_extension": ".py",
   "mimetype": "text/x-python",
   "name": "python",
   "nbconvert_exporter": "python",
   "pygments_lexer": "ipython3",
   "version": "3.7.0"
  }
 },
 "nbformat": 4,
 "nbformat_minor": 2
}

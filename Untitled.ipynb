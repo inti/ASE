{
 "cells": [
  {
   "cell_type": "code",
   "execution_count": 1,
   "metadata": {},
   "outputs": [],
   "source": [
    "import pandas as pd\n",
    "import pystan\n",
    "import numpy as np"
   ]
  },
  {
   "cell_type": "code",
   "execution_count": 55,
   "metadata": {},
   "outputs": [
    {
     "ename": "SyntaxError",
     "evalue": "unexpected EOF while parsing (<ipython-input-55-50075c418180>, line 34)",
     "output_type": "error",
     "traceback": [
      "\u001b[0;36m  File \u001b[0;32m\"<ipython-input-55-50075c418180>\"\u001b[0;36m, line \u001b[0;32m34\u001b[0m\n\u001b[0;31m    np.exp(np.arange(np.log(1),np.log(0.5),(end - start)/((K-1)/2))\u001b[0m\n\u001b[0m                                                                   ^\u001b[0m\n\u001b[0;31mSyntaxError\u001b[0m\u001b[0;31m:\u001b[0m unexpected EOF while parsing\n"
     ]
    }
   ],
   "source": [
    "def get_mus(K=3, center=0.5, denom_val = 2):\n",
    "    mus = np.zeros(K)\n",
    "    center_idx = int(0.5*(K-1))\n",
    "    mus[ center_idx ] = 0.5\n",
    "    denominator = np.sqrt(denom_val)\n",
    "    for i in range(int(K - 0.5*(K-1)),K):\n",
    "      mus[i] = mus[i-1]/denominator;\n",
    "      mus[K - i - 1] = 1 - mus[i-1]/denominator;\n",
    "        \n",
    "    print(mus)\n",
    "\n",
    "def get_mus_log(K=3, center=0.5):\n",
    "    start = np.log(1)\n",
    "    end=np.log(0.5)\n",
    "    step= (end - start)/((K-1)/2)\n",
    "    mus = np.sort(\n",
    "        np.hstack(\n",
    "            [np.exp(np.arange(start,end,step)),\n",
    "            0.5,\n",
    "            1 - np.exp(np.arange(start,end,step))]\n",
    "        )\n",
    "    )\n",
    "\n",
    "    mus[mus == 0] = 0.01\n",
    "    mus[mus == 1] = 0.99\n",
    "    return mus\n",
    "\n",
    "def get_prior_counts(K=3, center_prop=0.9):\n",
    "    pc = np.ones(K)\n",
    "    pc[int(0.5*(K-1))] = 10\n",
    "    return pc\n",
    "\n",
    "get_mus_log(K=7)\n"
   ]
  },
  {
   "cell_type": "code",
   "execution_count": 72,
   "metadata": {},
   "outputs": [
    {
     "data": {
      "text/plain": [
       "(array([-0.69314718, -0.61613083, -0.53911447, -0.46209812, -0.38508177,\n",
       "        -0.30806541, -0.23104906, -0.15403271, -0.07701635]), 9.0)"
      ]
     },
     "execution_count": 72,
     "metadata": {},
     "output_type": "execute_result"
    }
   ],
   "source": [
    "np.arange(end,start,-step), ((K-1)/2)"
   ]
  },
  {
   "cell_type": "code",
   "execution_count": 73,
   "metadata": {},
   "outputs": [
    {
     "data": {
      "text/plain": [
       "array([0.        , 0.08005974, 0.14825058, 0.16652904, 0.25992105,\n",
       "       0.28551203, 0.36079   , 0.41259895, 0.46973449, 0.5       ,\n",
       "       0.53026551, 0.58740105, 0.63921   , 0.71448797, 0.74007895,\n",
       "       0.83347096, 0.85174942, 0.91994026, 1.        ])"
      ]
     },
     "execution_count": 73,
     "metadata": {},
     "output_type": "execute_result"
    }
   ],
   "source": [
    "K=19\n",
    "start = np.log(1)\n",
    "end=np.log(0.5)\n",
    "step= (end - start)/((K-1)/2)\n",
    "\n",
    "\n",
    "np.sort(\n",
    "        np.hstack(\n",
    "            [(np.exp(np.arange(end,start,-step)) - 0.5)/0.5,\n",
    "            0.5,\n",
    "            1 - (np.exp(np.arange(end,start,-step)) - 0.5)/0.5]\n",
    "        )\n",
    "    )"
   ]
  },
  {
   "cell_type": "code",
   "execution_count": 41,
   "metadata": {},
   "outputs": [],
   "source": [
    "data = pd.read_table(\"/Users/inti.pedroso/DATA/ASE/phaser/ERR883767/ERR883767.phaser_ase.gene.txt\")\n",
    "data.head()\n",
    "data2 = data[data[\"totalCount\"] > 6]"
   ]
  },
  {
   "cell_type": "code",
   "execution_count": 163,
   "metadata": {},
   "outputs": [
    {
     "name": "stdout",
     "output_type": "stream",
     "text": [
      "Overwriting /Users/inti.pedroso/DATA/ASE/mixture_BBv4.stan\n"
     ]
    }
   ],
   "source": [
    "%%file /Users/inti.pedroso/DATA/ASE/mixture_BBv4.stan\n",
    "data {\n",
    "  int<lower=1> N; // total number of observations\n",
    "  int<lower=1> K; // total number of mixture distributions\n",
    "  int<lower=0> x[N]; // counts for one allele\n",
    "  int<lower=0> n[N]; // total counts for unit\n",
    "  real<lower=0,upper=1> mu[K]; // means of mixture distributions\n",
    "}\n",
    "parameters {\n",
    "  simplex[K] kappa; // prior count proportions\n",
    "  real<lower=10,upper=600> dirMass; // Total mass for dirichlet prior\n",
    "  simplex[K] theta; // mixture proportions\n",
    "  vector<lower=50,upper=1000>[K] M; // M_k = alpha_k + _beta_k\n",
    "} \n",
    "model {\n",
    "  real alpha[K];\n",
    "  real beta[K];\n",
    "  real gamma_a;\n",
    "  real gamma_b;\n",
    "  vector[K] lambda; // prior pseudocounts for each mixture distribution\n",
    "\n",
    "  vector[K] log_theta = log(theta); // cache log calculation\n",
    "  // alpha and beta parameters for each of the K distributions\n",
    "  for (k in 1:K) {\n",
    "    alpha[k] = mu[k]*M[k];\n",
    "    beta[k] = (1-mu[k])*M[k];\n",
    "    lambda[k] = kappa[k]*dirMass;\n",
    "  }\n",
    "\n",
    "  // priors for allocations proportions. This are fixed\n",
    "  theta ~ dirichlet(lambda);\n",
    "  // priors for each component \n",
    "  // M ~ gamma(gamma_a,gamma_b); //pareto(0.1, 1.5);\n",
    "  // likelihood \n",
    "  for (i in 1:N) {\n",
    "    vector[K] lps = log_theta;\n",
    "    for (k in 1:K)\n",
    "      lps[k] += beta_binomial_lpmf(x[i]|n[i], alpha[k], beta[k]);\n",
    "    target += log_sum_exp(lps);\n",
    "  } \n",
    "}"
   ]
  },
  {
   "cell_type": "code",
   "execution_count": 184,
   "metadata": {},
   "outputs": [],
   "source": [
    "data2 = data[data[\"totalCount\"] > 100]\n",
    "K=7\n",
    "dat2stan = {'N': data2.shape[0],\n",
    "            'K':K,\n",
    "            'mu': [0.01,0.1,0.25,0.5,0.75,0.90,0.99],\n",
    "            'lambda': get_prior_counts(K=K),\n",
    "            'x': data2.aCount.values,\n",
    "            'n': data2.totalCount.values\n",
    "           }"
   ]
  },
  {
   "cell_type": "code",
   "execution_count": 192,
   "metadata": {},
   "outputs": [],
   "source": [
    "%matplotlib inline\n",
    "\n",
    "import numpy as np\n",
    "import matplotlib.pyplot as plt\n",
    "\n",
    "plt.style.use('seaborn') # pretty matplotlib plots\n",
    "plt.rcParams['figure.figsize'] = (12, 8)\n",
    "import scipy.stats as ss\n",
    "\n",
    "def plot_normal(x_range, mu=0, sigma=1, cdf=False, **kwargs):\n",
    "    '''\n",
    "    Plots the normal distribution function for a given x range\n",
    "    If mu and sigma are not provided, standard normal is plotted\n",
    "    If cdf=True cumulative distribution is plotted\n",
    "    Passes any keyword arguments to matplotlib plot function\n",
    "    '''\n",
    "    x = x_range\n",
    "    if cdf:\n",
    "        y = ss.norm.cdf(x, mu, sigma)\n",
    "    else:\n",
    "        y = ss.norm.pdf(x, mu, sigma)\n",
    "    plt.plot(x, y, **kwargs)\n",
    "    \n",
    "def plot_beta(x_range, alpha=1, beta=1, cdf=False, w = 1, **kwargs):\n",
    "    '''\n",
    "    Plots the normal distribution function for a given x range\n",
    "    If mu and sigma are not provided, standard normal is plotted\n",
    "    If cdf=True cumulative distribution is plotted\n",
    "    Passes any keyword arguments to matplotlib plot function\n",
    "    '''\n",
    "    x = x_range\n",
    "    if cdf:\n",
    "        y = ss.beta.cdf(x, alpha, beta)\n",
    "    else:\n",
    "        y = w*ss.beta.pdf(x, alpha, beta)\n",
    "    plt.plot(x, y, **kwargs)"
   ]
  },
  {
   "cell_type": "code",
   "execution_count": 166,
   "metadata": {},
   "outputs": [
    {
     "name": "stderr",
     "output_type": "stream",
     "text": [
      "INFO:pystan:COMPILING THE C++ CODE FOR MODEL anon_model_814f6bc070137353a8d509af93b87e56 NOW.\n"
     ]
    }
   ],
   "source": [
    "\n",
    "sm_BB = pystan.StanModel(file=\"/Users/inti.pedroso/DATA/ASE/mixture_BBv4.stan\")\n",
    "#sm_BB_dirPrior = pystan.StanModel(file=\"/Users/inti.pedroso/DATA/ASE/mixture_BB_dirPrior.stan\")\n",
    "\n",
    "\n",
    "\n"
   ]
  },
  {
   "cell_type": "code",
   "execution_count": 185,
   "metadata": {},
   "outputs": [
    {
     "name": "stderr",
     "output_type": "stream",
     "text": [
      "/Users/inti.pedroso/anaconda2/envs/ase_dev/lib/python3.7/site-packages/pystan/misc.py:399: FutureWarning: Conversion of the second argument of issubdtype from `float` to `np.floating` is deprecated. In future, it will be treated as `np.float64 == np.dtype(float).type`.\n",
      "  elif np.issubdtype(np.asarray(v).dtype, float):\n",
      "WARNING:pystan:Automatic Differentiation Variational Inference (ADVI) is an EXPERIMENTAL ALGORITHM.\n",
      "WARNING:pystan:ADVI samples may be found on the filesystem in the file `/var/folders/yt/p39gwb910ys3dl075j1qwbnw0000gn/T/tmpb0ws1l7a/output.csv`\n"
     ]
    }
   ],
   "source": [
    "\n",
    "fit_vb = sm_BB.vb(data=dat2stan, tol_rel_obj = 1e-3)"
   ]
  },
  {
   "cell_type": "code",
   "execution_count": null,
   "metadata": {},
   "outputs": [],
   "source": [
    "dat2stan['mu']"
   ]
  },
  {
   "cell_type": "code",
   "execution_count": 186,
   "metadata": {
    "scrolled": true
   },
   "outputs": [
    {
     "data": {
      "text/html": [
       "<div>\n",
       "<style scoped>\n",
       "    .dataframe tbody tr th:only-of-type {\n",
       "        vertical-align: middle;\n",
       "    }\n",
       "\n",
       "    .dataframe tbody tr th {\n",
       "        vertical-align: top;\n",
       "    }\n",
       "\n",
       "    .dataframe thead th {\n",
       "        text-align: right;\n",
       "    }\n",
       "</style>\n",
       "<table border=\"1\" class=\"dataframe\">\n",
       "  <thead>\n",
       "    <tr style=\"text-align: right;\">\n",
       "      <th></th>\n",
       "      <th>param</th>\n",
       "      <th>mean</th>\n",
       "    </tr>\n",
       "  </thead>\n",
       "  <tbody>\n",
       "    <tr>\n",
       "      <th>0</th>\n",
       "      <td>kappa.1</td>\n",
       "      <td>0.0151901</td>\n",
       "    </tr>\n",
       "    <tr>\n",
       "      <th>1</th>\n",
       "      <td>kappa.2</td>\n",
       "      <td>0.0395423</td>\n",
       "    </tr>\n",
       "    <tr>\n",
       "      <th>2</th>\n",
       "      <td>kappa.3</td>\n",
       "      <td>0.0861293</td>\n",
       "    </tr>\n",
       "    <tr>\n",
       "      <th>3</th>\n",
       "      <td>kappa.4</td>\n",
       "      <td>0.681775</td>\n",
       "    </tr>\n",
       "    <tr>\n",
       "      <th>4</th>\n",
       "      <td>kappa.5</td>\n",
       "      <td>0.113053</td>\n",
       "    </tr>\n",
       "    <tr>\n",
       "      <th>5</th>\n",
       "      <td>kappa.6</td>\n",
       "      <td>0.0418301</td>\n",
       "    </tr>\n",
       "    <tr>\n",
       "      <th>6</th>\n",
       "      <td>kappa.7</td>\n",
       "      <td>0.0224805</td>\n",
       "    </tr>\n",
       "    <tr>\n",
       "      <th>7</th>\n",
       "      <td>dirMass</td>\n",
       "      <td>16.6382</td>\n",
       "    </tr>\n",
       "    <tr>\n",
       "      <th>8</th>\n",
       "      <td>theta.1</td>\n",
       "      <td>0.000306829</td>\n",
       "    </tr>\n",
       "    <tr>\n",
       "      <th>9</th>\n",
       "      <td>theta.2</td>\n",
       "      <td>0.0117017</td>\n",
       "    </tr>\n",
       "    <tr>\n",
       "      <th>10</th>\n",
       "      <td>theta.3</td>\n",
       "      <td>0.0511648</td>\n",
       "    </tr>\n",
       "    <tr>\n",
       "      <th>11</th>\n",
       "      <td>theta.4</td>\n",
       "      <td>0.845346</td>\n",
       "    </tr>\n",
       "    <tr>\n",
       "      <th>12</th>\n",
       "      <td>theta.5</td>\n",
       "      <td>0.0829191</td>\n",
       "    </tr>\n",
       "    <tr>\n",
       "      <th>13</th>\n",
       "      <td>theta.6</td>\n",
       "      <td>0.0083264</td>\n",
       "    </tr>\n",
       "    <tr>\n",
       "      <th>14</th>\n",
       "      <td>theta.7</td>\n",
       "      <td>0.000235709</td>\n",
       "    </tr>\n",
       "    <tr>\n",
       "      <th>15</th>\n",
       "      <td>M.1</td>\n",
       "      <td>475.66</td>\n",
       "    </tr>\n",
       "    <tr>\n",
       "      <th>16</th>\n",
       "      <td>M.2</td>\n",
       "      <td>186.219</td>\n",
       "    </tr>\n",
       "    <tr>\n",
       "      <th>17</th>\n",
       "      <td>M.3</td>\n",
       "      <td>103.472</td>\n",
       "    </tr>\n",
       "    <tr>\n",
       "      <th>18</th>\n",
       "      <td>M.4</td>\n",
       "      <td>87.8813</td>\n",
       "    </tr>\n",
       "    <tr>\n",
       "      <th>19</th>\n",
       "      <td>M.5</td>\n",
       "      <td>55.2358</td>\n",
       "    </tr>\n",
       "    <tr>\n",
       "      <th>20</th>\n",
       "      <td>M.6</td>\n",
       "      <td>554.606</td>\n",
       "    </tr>\n",
       "    <tr>\n",
       "      <th>21</th>\n",
       "      <td>M.7</td>\n",
       "      <td>504.153</td>\n",
       "    </tr>\n",
       "  </tbody>\n",
       "</table>\n",
       "</div>"
      ],
      "text/plain": [
       "      param         mean\n",
       "0   kappa.1    0.0151901\n",
       "1   kappa.2    0.0395423\n",
       "2   kappa.3    0.0861293\n",
       "3   kappa.4     0.681775\n",
       "4   kappa.5     0.113053\n",
       "5   kappa.6    0.0418301\n",
       "6   kappa.7    0.0224805\n",
       "7   dirMass      16.6382\n",
       "8   theta.1  0.000306829\n",
       "9   theta.2    0.0117017\n",
       "10  theta.3    0.0511648\n",
       "11  theta.4     0.845346\n",
       "12  theta.5    0.0829191\n",
       "13  theta.6    0.0083264\n",
       "14  theta.7  0.000235709\n",
       "15      M.1       475.66\n",
       "16      M.2      186.219\n",
       "17      M.3      103.472\n",
       "18      M.4      87.8813\n",
       "19      M.5      55.2358\n",
       "20      M.6      554.606\n",
       "21      M.7      504.153"
      ]
     },
     "execution_count": 186,
     "metadata": {},
     "output_type": "execute_result"
    }
   ],
   "source": [
    "pd.DataFrame([fit_vb['sampler_param_names'],fit_vb['mean_pars']], index=[\"param\",\"mean\"]).T"
   ]
  },
  {
   "cell_type": "code",
   "execution_count": 197,
   "metadata": {},
   "outputs": [
    {
     "data": {
      "image/png": "[encoded data removed]",
      "text/plain": [
       "<Figure size 864x576 with 1 Axes>"
      ]
     },
     "metadata": {},
     "output_type": "display_data"
    }
   ],
   "source": [
    "x = np.linspace(0, 1, 500)\n",
    "mu=0.5\n",
    "M=100\n",
    "mu = [0.01,0.1,0.25,0.5,0.75,0.90,0.99]\n",
    "Ms = [475.66, 186.219, 103.472, 87.8813, 55.2358, 554.606, 504.153]\n",
    "theta = [0.000306829,0.0117017,0.0511648,0.845346,0.0829191,0.0083264,0.000235709]\n",
    "for i in np.arange(7):\n",
    "    m = mu[i]\n",
    "    M= Ms[i]\n",
    "    plot_beta(x, alpha=m*M,beta=(1-m)*M, w = theta[i])\n",
    "\n",
    "?plt.hist(dat2stan['x']/dat2stan['n'])"
   ]
  },
  {
   "cell_type": "code",
   "execution_count": null,
   "metadata": {},
   "outputs": [],
   "source": [
    "fit_vb.keys()\n",
    "fit_vb['args']"
   ]
  },
  {
   "cell_type": "code",
   "execution_count": null,
   "metadata": {},
   "outputs": [],
   "source": [
    "print(fit_vb['args']['sample_file'])\n",
    "d = pd.read_csv(\"/var/folders/yt/p39gwb910ys3dl075j1qwbnw0000gn/T/tmphweng8ln/output.csv\", skiprows=200)\n",
    "d.head()"
   ]
  },
  {
   "cell_type": "code",
   "execution_count": null,
   "metadata": {},
   "outputs": [],
   "source": [
    "%time fit = sm_BB.sampling(data=dat2stan, iter=1000, chains=2, n_jobs=1)"
   ]
  },
  {
   "cell_type": "code",
   "execution_count": null,
   "metadata": {},
   "outputs": [],
   "source": [
    "?sm_BB.sampling"
   ]
  },
  {
   "cell_type": "code",
   "execution_count": null,
   "metadata": {},
   "outputs": [],
   "source": []
  },
  {
   "cell_type": "code",
   "execution_count": null,
   "metadata": {},
   "outputs": [],
   "source": []
  },
  {
   "cell_type": "code",
   "execution_count": null,
   "metadata": {},
   "outputs": [],
   "source": [
    "print(fit.stansummary())"
   ]
  },
  {
   "cell_type": "code",
   "execution_count": null,
   "metadata": {},
   "outputs": [],
   "source": [
    "from scipy.special import gammaln\n",
    "from scipy.misc import logsumexp\n",
    "\n",
    "def log_dbetabinomial(x,n,a,b):\n",
    "    return gammaln(n+1) + gammaln(x+a) + gammaln(n-x+b) + gammaln(a+b) - \\\n",
    "        (gammaln(x+1) + gammaln(n-x+1) + gammaln(a) + gammaln(b) + gammaln(n+a+b))\n",
    "\n",
    "log_dbetabinomial(10,50,25,25)\n",
    "\n",
    "class DirMult:\n",
    "    def __init__(self,K=3,prior_counts = None):\n",
    "        if prior_counts is not None:\n",
    "            self.prior_counts = prior_counts\n",
    "        else: \n",
    "            self.prior_counts = np.ones(K)\n",
    "        \n",
    "        self.alpha = self.prior_counts\n",
    "\n",
    "    \n",
    "    def update(self,counts = None):\n",
    "        self.alpha += counts\n",
    "            \n",
    "d = dirich(prior_counts=pr_ct)\n",
    "print(d.prior_counts)\n",
    "d.update(pr_ct)\n",
    "print(d.alpha)\n",
    "\n"
   ]
  },
  {
   "cell_type": "code",
   "execution_count": null,
   "metadata": {},
   "outputs": [],
   "source": [
    "K=3\n",
    "N=5\n",
    "pr_ct = get_prior_counts(K=K)\n",
    "params = dict(K=K,\n",
    "              N=N,\n",
    "              pi=np.ones(K,dtype=np.float)/K,\n",
    "              alpha=pr_ct\n",
    "              \n",
    "             )\n",
    "params"
   ]
  },
  {
   "cell_type": "code",
   "execution_count": null,
   "metadata": {},
   "outputs": [],
   "source": [
    "data2 = data[data[\"totalCount\"] > 100]\n",
    "data2.shape"
   ]
  },
  {
   "cell_type": "code",
   "execution_count": null,
   "metadata": {},
   "outputs": [],
   "source": [
    "data2.head()"
   ]
  },
  {
   "cell_type": "code",
   "execution_count": null,
   "metadata": {},
   "outputs": [],
   "source": [
    "mult = get_mus_log(K=5)\n",
    "pr_ct = get_prior_counts(K=5)\n",
    "pr_ct\n"
   ]
  },
  {
   "cell_type": "code",
   "execution_count": null,
   "metadata": {},
   "outputs": [],
   "source": [
    "for i in xr"
   ]
  },
  {
   "cell_type": "code",
   "execution_count": null,
   "metadata": {},
   "outputs": [],
   "source": [
    "def prob_1_beats_2(alpha_1, beta_1, alpha_2, beta_2):\n",
    "    total = 0.0\n",
    "    for k in range(0,(alpha_1-1)):\n",
    "        total += exp(k * log(beta_1) + alpha_2 * logbeta_2) \\\n",
    "                 - (k+alpha_2) * log(beta_1 + beta_2) \\\n",
    "                 - log(k + alpha_2) - lbeta(k + 1, alpha_2)\n",
    "\n",
    "    return total\n",
    "\n",
    "prob_1_beats_2(10,50,25,25)"
   ]
  }
 ],
 "metadata": {
  "kernelspec": {
   "display_name": "Python 3",
   "language": "python",
   "name": "python3"
  },
  "language_info": {
   "codemirror_mode": {
    "name": "ipython",
    "version": 3
   },
   "file_extension": ".py",
   "mimetype": "text/x-python",
   "name": "python",
   "nbconvert_exporter": "python",
   "pygments_lexer": "ipython3",
   "version": "3.7.0"
  }
 },
 "nbformat": 4,
 "nbformat_minor": 2
}

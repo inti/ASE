{
 "cells": [
  {
   "cell_type": "code",
   "execution_count": 1,
   "metadata": {},
   "outputs": [],
   "source": [
    "import pandas as pd\n",
    "import pystan\n",
    "import numpy as np"
   ]
  },
  {
   "cell_type": "code",
   "execution_count": 30,
   "metadata": {},
   "outputs": [
    {
     "data": {
      "text/plain": [
       "array([0.01      , 0.16666667, 0.33333333, 0.53      , 0.66666667,\n",
       "       0.83333333, 0.99      ])"
      ]
     },
     "execution_count": 30,
     "metadata": {},
     "output_type": "execute_result"
    }
   ],
   "source": [
    "def get_mus(K=3, center=0.5, denom_val = 2):\n",
    "    mus = np.zeros(K)\n",
    "    center_idx = int(0.5*(K-1))\n",
    "    mus[ center_idx ] = 0.5\n",
    "    denominator = np.sqrt(denom_val)\n",
    "    for i in range(int(K - 0.5*(K-1)),K):\n",
    "      mus[i] = mus[i-1]/denominator;\n",
    "      mus[K - i - 1] = 1 - mus[i-1]/denominator;\n",
    "        \n",
    "    print(mus)\n",
    "\n",
    "def get_mus_log(K=3, center=0.5):\n",
    "    start = np.log(1)\n",
    "    end=np.log(0.5)\n",
    "    step= (end - start)/((K-1)/2)\n",
    "    mus = np.sort(\n",
    "        np.hstack(\n",
    "            [np.exp(np.arange(start,end,step)),\n",
    "            0.5,\n",
    "            1 - np.exp(np.arange(start,end,step))]\n",
    "        )\n",
    "    )\n",
    "\n",
    "    mus[mus == 0] = 0.01\n",
    "    mus[mus == 1] = 0.99\n",
    "    return mus\n",
    "\n",
    "def get_mu_linear(K=3):\n",
    "    back = np.sort(np.hstack([np.arange(0,1.0,1.0/(K-1))] + [.99]))\n",
    "    back[back == 0] = 0.01\n",
    "    back[back == 1] = 0.99\n",
    "    back[back == 0.5] = 0.53\n",
    "\n",
    "\n",
    "    return back\n",
    "\n",
    "    \n",
    "def get_prior_counts(K=3, center_prop=0.9):\n",
    "    pc = np.ones(K)\n",
    "    pc[int(0.5*(K-1))] = 10\n",
    "    return pc\n",
    "\n",
    "get_mu_linear(K=7)\n"
   ]
  },
  {
   "cell_type": "code",
   "execution_count": 4,
   "metadata": {},
   "outputs": [
    {
     "data": {
      "text/plain": [
       "array([0.        , 0.08005974, 0.14825058, 0.16652904, 0.25992105,\n",
       "       0.28551203, 0.36079   , 0.41259895, 0.46973449, 0.5       ,\n",
       "       0.53026551, 0.58740105, 0.63921   , 0.71448797, 0.74007895,\n",
       "       0.83347096, 0.85174942, 0.91994026, 1.        ])"
      ]
     },
     "execution_count": 4,
     "metadata": {},
     "output_type": "execute_result"
    }
   ],
   "source": [
    "K=19\n",
    "start = np.log(1)\n",
    "end=np.log(0.5)\n",
    "step= (end - start)/((K-1)/2)\n",
    "\n",
    "\n",
    "np.sort(\n",
    "        np.hstack(\n",
    "            [(np.exp(np.arange(end,start,-step)) - 0.5)/0.5,\n",
    "            0.5,\n",
    "            1 - (np.exp(np.arange(end,start,-step)) - 0.5)/0.5]\n",
    "        )\n",
    "    )"
   ]
  },
  {
   "cell_type": "code",
   "execution_count": 47,
   "metadata": {},
   "outputs": [],
   "source": [
    "folders = !ls /Users/inti.pedroso/DATA/ASE/phaser/\n",
    "data = pd.concat([ pd.read_table(\"\".join([\"/Users/inti.pedroso/DATA/ASE/phaser/\",f,\"/\",f,\".phaser_ase.gene.txt\"])) for f in folders ])\n"
   ]
  },
  {
   "cell_type": "code",
   "execution_count": 51,
   "metadata": {},
   "outputs": [
    {
     "data": {
      "text/plain": [
       "(8194, 12)"
      ]
     },
     "execution_count": 51,
     "metadata": {},
     "output_type": "execute_result"
    }
   ],
   "source": [
    "#data = pd.read_table(\"/Users/inti.pedroso/DATA/ASE/phaser/ERR883767/ERR883767.phaser_ase.gene.txt\")\n",
    "data.head()\n",
    "data2 = data[data[\"totalCount\"] > 10]\n",
    "data2.shape"
   ]
  },
  {
   "cell_type": "code",
   "execution_count": 73,
   "metadata": {},
   "outputs": [
    {
     "name": "stdout",
     "output_type": "stream",
     "text": [
      "Overwriting /Users/inti.pedroso/DATA/ASE/mixture_BBv4.stan\n"
     ]
    }
   ],
   "source": [
    "%%file /Users/inti.pedroso/DATA/ASE/mixture_BBv4.stan\n",
    "data {\n",
    "  int<lower=1> N; // total number of observations\n",
    "  int<lower=1> K; // total number of mixture distributions\n",
    "  int<lower=0> x[N]; // counts for one allele\n",
    "  int<lower=0> n[N]; // total counts for unit\n",
    "  real<lower=0,upper=1> mu[K]; // means of mixture distributions\n",
    "}\n",
    "parameters {\n",
    "  simplex[K] kappa; // prior count proportions\n",
    "  real<lower=10,upper=600> dirMass; // Total mass for dirichlet prior\n",
    "  simplex[K] theta; // mixture proportions\n",
    "  vector[K]<lower=2> M; // M_k = alpha_k + _beta_k. <lower=5,upper=1000>\n",
    "} \n",
    "model {\n",
    "  real alpha[K];\n",
    "  real beta[K];\n",
    "  vector[K] lambda; // prior pseudocounts for each mixture distribution\n",
    "\n",
    "  vector[K] log_theta = log(theta); // cache log calculation\n",
    "  // alpha and beta parameters for each of the K distributions\n",
    "  for (k in 1:K) {\n",
    "    alpha[k] = mu[k]*M[k];\n",
    "    beta[k] = (1-mu[k])*M[k];\n",
    "    lambda[k] = kappa[k]*dirMass;\n",
    "  }\n",
    "\n",
    "  // priors for allocations proportions. This are fixed\n",
    "  theta ~ dirichlet(lambda);\n",
    "  // priors for each component \n",
    "  M ~ pareto(0.1, 1.5);\n",
    "    \n",
    "  // likelihood \n",
    "  for (i in 1:N) {\n",
    "    vector[K] lps = log_theta;\n",
    "    for (k in 1:K)\n",
    "      lps[k] += beta_binomial_lpmf(x[i]|n[i], alpha[k], beta[k]);\n",
    "    target += log_sum_exp(lps);\n",
    "  } \n",
    "}"
   ]
  },
  {
   "cell_type": "code",
   "execution_count": 63,
   "metadata": {},
   "outputs": [],
   "source": [
    "data2 = data[data[\"totalCount\"] > 10]\n",
    "K=7\n",
    "dat2stan = {'N': data2.shape[0],\n",
    "            'K':K,\n",
    "            'mu': get_mu_linear(K),\n",
    "            'lambda': get_prior_counts(K=K),\n",
    "            'x': data2.aCount.values,\n",
    "            'n': data2.totalCount.values\n",
    "           }"
   ]
  },
  {
   "cell_type": "code",
   "execution_count": 53,
   "metadata": {},
   "outputs": [
    {
     "data": {
      "text/plain": [
       "array([0.01, 0.1 , 0.2 , 0.3 , 0.4 , 0.53, 0.6 , 0.7 , 0.8 , 0.9 , 0.99])"
      ]
     },
     "execution_count": 53,
     "metadata": {},
     "output_type": "execute_result"
    }
   ],
   "source": [
    "get_mu_linear(11)"
   ]
  },
  {
   "cell_type": "code",
   "execution_count": 9,
   "metadata": {},
   "outputs": [],
   "source": [
    "%matplotlib inline\n",
    "\n",
    "import numpy as np\n",
    "import matplotlib.pyplot as plt\n",
    "\n",
    "plt.style.use('seaborn') # pretty matplotlib plots\n",
    "plt.rcParams['figure.figsize'] = (12, 8)\n",
    "import scipy.stats as ss\n",
    "\n",
    "def plot_normal(x_range, mu=0, sigma=1, cdf=False, **kwargs):\n",
    "    '''\n",
    "    Plots the normal distribution function for a given x range\n",
    "    If mu and sigma are not provided, standard normal is plotted\n",
    "    If cdf=True cumulative distribution is plotted\n",
    "    Passes any keyword arguments to matplotlib plot function\n",
    "    '''\n",
    "    x = x_range\n",
    "    if cdf:\n",
    "        y = ss.norm.cdf(x, mu, sigma)\n",
    "    else:\n",
    "        y = ss.norm.pdf(x, mu, sigma)\n",
    "    plt.plot(x, y, **kwargs)\n",
    "    \n",
    "def plot_beta(x_range, alpha=1, beta=1, cdf=False, w = 1, **kwargs):\n",
    "    '''\n",
    "    Plots the normal distribution function for a given x range\n",
    "    If mu and sigma are not provided, standard normal is plotted\n",
    "    If cdf=True cumulative distribution is plotted\n",
    "    Passes any keyword arguments to matplotlib plot function\n",
    "    '''\n",
    "    x = x_range\n",
    "    if cdf:\n",
    "        y = ss.beta.cdf(x, alpha, beta)\n",
    "    else:\n",
    "        y = w*ss.beta.pdf(x, alpha, beta)\n",
    "    plt.plot(x, y,color='black', **kwargs)"
   ]
  },
  {
   "cell_type": "code",
   "execution_count": 74,
   "metadata": {},
   "outputs": [
    {
     "ename": "ValueError",
     "evalue": "Failed to parse Stan model 'anon_model_a47f4fa98a1b850f6da00abdeca8136d'. Error message:\nSYNTAX ERROR, MESSAGE(S) FROM PARSER:\n\n  error in 'unknown file name' at line 12, column 12\n  -------------------------------------------------\n    10:   real<lower=10,upper=600> dirMass; // Total mass for dirichlet prior\n    11:   simplex[K] theta; // mixture proportions\n    12:   vector[K]<lower=2> M; // M_k = alpha_k + _beta_k. <lower=5,upper=1000>\n                   ^\n    13: } \n  -------------------------------------------------\n\nPARSER EXPECTED: <identifier>\n",
     "output_type": "error",
     "traceback": [
      "\u001b[0;31m---------------------------------------------------------------------------\u001b[0m",
      "\u001b[0;31mValueError\u001b[0m                                Traceback (most recent call last)",
      "\u001b[0;32m<ipython-input-74-a9414da400f8>\u001b[0m in \u001b[0;36m<module>\u001b[0;34m()\u001b[0m\n\u001b[0;32m----> 1\u001b[0;31m \u001b[0msm_BB\u001b[0m \u001b[0;34m=\u001b[0m \u001b[0mpystan\u001b[0m\u001b[0;34m.\u001b[0m\u001b[0mStanModel\u001b[0m\u001b[0;34m(\u001b[0m\u001b[0mfile\u001b[0m\u001b[0;34m=\u001b[0m\u001b[0;34m\"/Users/inti.pedroso/DATA/ASE/mixture_BBv4.stan\"\u001b[0m\u001b[0;34m)\u001b[0m\u001b[0;34m\u001b[0m\u001b[0m\n\u001b[0m\u001b[1;32m      2\u001b[0m \u001b[0;31m#sm_BB_dirPrior = pystan.StanModel(file=\"/Users/inti.pedroso/DATA/ASE/mixture_BB_dirPrior.stan\")\u001b[0m\u001b[0;34m\u001b[0m\u001b[0;34m\u001b[0m\u001b[0m\n",
      "\u001b[0;32m~/anaconda2/envs/ase_dev/lib/python3.7/site-packages/pystan/model.py\u001b[0m in \u001b[0;36m__init__\u001b[0;34m(self, file, charset, model_name, model_code, stanc_ret, boost_lib, eigen_lib, verbose, obfuscate_model_name, extra_compile_args)\u001b[0m\n\u001b[1;32m    211\u001b[0m                                          \u001b[0mmodel_name\u001b[0m\u001b[0;34m=\u001b[0m\u001b[0mmodel_name\u001b[0m\u001b[0;34m,\u001b[0m\u001b[0;34m\u001b[0m\u001b[0m\n\u001b[1;32m    212\u001b[0m                                          \u001b[0mverbose\u001b[0m\u001b[0;34m=\u001b[0m\u001b[0mverbose\u001b[0m\u001b[0;34m,\u001b[0m\u001b[0;34m\u001b[0m\u001b[0m\n\u001b[0;32m--> 213\u001b[0;31m                                          obfuscate_model_name=obfuscate_model_name)\n\u001b[0m\u001b[1;32m    214\u001b[0m \u001b[0;34m\u001b[0m\u001b[0m\n\u001b[1;32m    215\u001b[0m         \u001b[0;32mif\u001b[0m \u001b[0;32mnot\u001b[0m \u001b[0misinstance\u001b[0m\u001b[0;34m(\u001b[0m\u001b[0mstanc_ret\u001b[0m\u001b[0;34m,\u001b[0m \u001b[0mdict\u001b[0m\u001b[0;34m)\u001b[0m\u001b[0;34m:\u001b[0m\u001b[0;34m\u001b[0m\u001b[0m\n",
      "\u001b[0;32m~/anaconda2/envs/ase_dev/lib/python3.7/site-packages/pystan/api.py\u001b[0m in \u001b[0;36mstanc\u001b[0;34m(file, charset, model_code, model_name, verbose, obfuscate_model_name)\u001b[0m\n\u001b[1;32m    132\u001b[0m             \u001b[0mmsg\u001b[0m \u001b[0;34m=\u001b[0m \u001b[0mmsg\u001b[0m\u001b[0;34m.\u001b[0m\u001b[0mencode\u001b[0m\u001b[0;34m(\u001b[0m\u001b[0;34m'ascii'\u001b[0m\u001b[0;34m,\u001b[0m \u001b[0;34m'replace'\u001b[0m\u001b[0;34m)\u001b[0m\u001b[0;34m\u001b[0m\u001b[0m\n\u001b[1;32m    133\u001b[0m         \u001b[0merror_msg\u001b[0m \u001b[0;34m=\u001b[0m \u001b[0;34m\"Failed to parse Stan model '{}'. Error message:\\n{}\"\u001b[0m\u001b[0;34m.\u001b[0m\u001b[0mformat\u001b[0m\u001b[0;34m(\u001b[0m\u001b[0mmodel_name\u001b[0m\u001b[0;34m,\u001b[0m \u001b[0mmsg\u001b[0m\u001b[0;34m)\u001b[0m\u001b[0;34m\u001b[0m\u001b[0m\n\u001b[0;32m--> 134\u001b[0;31m         \u001b[0;32mraise\u001b[0m \u001b[0mValueError\u001b[0m\u001b[0;34m(\u001b[0m\u001b[0merror_msg\u001b[0m\u001b[0;34m)\u001b[0m\u001b[0;34m\u001b[0m\u001b[0m\n\u001b[0m\u001b[1;32m    135\u001b[0m     \u001b[0;32melif\u001b[0m \u001b[0mresult\u001b[0m\u001b[0;34m[\u001b[0m\u001b[0;34m'status'\u001b[0m\u001b[0;34m]\u001b[0m \u001b[0;34m==\u001b[0m \u001b[0;36m0\u001b[0m\u001b[0;34m:\u001b[0m  \u001b[0;31m# SUCCESS_RC is 0\u001b[0m\u001b[0;34m\u001b[0m\u001b[0m\n\u001b[1;32m    136\u001b[0m         \u001b[0mlogger\u001b[0m\u001b[0;34m.\u001b[0m\u001b[0mdebug\u001b[0m\u001b[0;34m(\u001b[0m\u001b[0;34m\"Successfully parsed Stan model '{}'.\"\u001b[0m\u001b[0;34m.\u001b[0m\u001b[0mformat\u001b[0m\u001b[0;34m(\u001b[0m\u001b[0mmodel_name\u001b[0m\u001b[0;34m)\u001b[0m\u001b[0;34m)\u001b[0m\u001b[0;34m\u001b[0m\u001b[0m\n",
      "\u001b[0;31mValueError\u001b[0m: Failed to parse Stan model 'anon_model_a47f4fa98a1b850f6da00abdeca8136d'. Error message:\nSYNTAX ERROR, MESSAGE(S) FROM PARSER:\n\n  error in 'unknown file name' at line 12, column 12\n  -------------------------------------------------\n    10:   real<lower=10,upper=600> dirMass; // Total mass for dirichlet prior\n    11:   simplex[K] theta; // mixture proportions\n    12:   vector[K]<lower=2> M; // M_k = alpha_k + _beta_k. <lower=5,upper=1000>\n                   ^\n    13: } \n  -------------------------------------------------\n\nPARSER EXPECTED: <identifier>\n"
     ]
    }
   ],
   "source": [
    "sm_BB = pystan.StanModel(file=\"/Users/inti.pedroso/DATA/ASE/mixture_BBv4.stan\")\n",
    "#sm_BB_dirPrior = pystan.StanModel(file=\"/Users/inti.pedroso/DATA/ASE/mixture_BB_dirPrior.stan\")"
   ]
  },
  {
   "cell_type": "code",
   "execution_count": 75,
   "metadata": {},
   "outputs": [
    {
     "name": "stderr",
     "output_type": "stream",
     "text": [
      "/Users/inti.pedroso/anaconda2/envs/ase_dev/lib/python3.7/site-packages/pystan/misc.py:399: FutureWarning: Conversion of the second argument of issubdtype from `float` to `np.floating` is deprecated. In future, it will be treated as `np.float64 == np.dtype(float).type`.\n",
      "  elif np.issubdtype(np.asarray(v).dtype, float):\n"
     ]
    },
    {
     "ename": "RuntimeError",
     "evalue": "Initialization failed.",
     "output_type": "error",
     "traceback": [
      "\u001b[0;31m---------------------------------------------------------------------------\u001b[0m",
      "\u001b[0;31mRuntimeError\u001b[0m                              Traceback (most recent call last)",
      "\u001b[0;32m<ipython-input-75-47b40fe0c304>\u001b[0m in \u001b[0;36m<module>\u001b[0;34m()\u001b[0m\n\u001b[0;32m----> 1\u001b[0;31m \u001b[0mfit_vb\u001b[0m \u001b[0;34m=\u001b[0m \u001b[0msm_BB\u001b[0m\u001b[0;34m.\u001b[0m\u001b[0mvb\u001b[0m\u001b[0;34m(\u001b[0m\u001b[0mdata\u001b[0m\u001b[0;34m=\u001b[0m\u001b[0mdat2stan\u001b[0m\u001b[0;34m,\u001b[0m \u001b[0mtol_rel_obj\u001b[0m \u001b[0;34m=\u001b[0m \u001b[0;36m1e-3\u001b[0m\u001b[0;34m)\u001b[0m\u001b[0;34m\u001b[0m\u001b[0m\n\u001b[0m",
      "\u001b[0;32m~/anaconda2/envs/ase_dev/lib/python3.7/site-packages/pystan/model.py\u001b[0m in \u001b[0;36mvb\u001b[0;34m(self, data, pars, iter, seed, init, sample_file, diagnostic_file, verbose, algorithm, **kwargs)\u001b[0m\n\u001b[1;32m    887\u001b[0m         \u001b[0mstan_args\u001b[0m \u001b[0;34m=\u001b[0m \u001b[0mpystan\u001b[0m\u001b[0;34m.\u001b[0m\u001b[0mmisc\u001b[0m\u001b[0;34m.\u001b[0m\u001b[0m_get_valid_stan_args\u001b[0m\u001b[0;34m(\u001b[0m\u001b[0mstan_args\u001b[0m\u001b[0;34m)\u001b[0m\u001b[0;34m\u001b[0m\u001b[0m\n\u001b[1;32m    888\u001b[0m \u001b[0;34m\u001b[0m\u001b[0m\n\u001b[0;32m--> 889\u001b[0;31m         \u001b[0mret\u001b[0m\u001b[0;34m,\u001b[0m \u001b[0msample\u001b[0m \u001b[0;34m=\u001b[0m \u001b[0mfit\u001b[0m\u001b[0;34m.\u001b[0m\u001b[0m_call_sampler\u001b[0m\u001b[0;34m(\u001b[0m\u001b[0mstan_args\u001b[0m\u001b[0;34m)\u001b[0m\u001b[0;34m\u001b[0m\u001b[0m\n\u001b[0m\u001b[1;32m    890\u001b[0m \u001b[0;34m\u001b[0m\u001b[0m\n\u001b[1;32m    891\u001b[0m         \u001b[0mlogger\u001b[0m\u001b[0;34m.\u001b[0m\u001b[0mwarning\u001b[0m\u001b[0;34m(\u001b[0m\u001b[0;34m'Automatic Differentiation Variational Inference (ADVI) is an EXPERIMENTAL ALGORITHM.'\u001b[0m\u001b[0;34m)\u001b[0m\u001b[0;34m\u001b[0m\u001b[0m\n",
      "\u001b[0;32mstanfit4anon_model_a233d67c13420180ad0b8c8f50ba894a_3015391906163264992.pyx\u001b[0m in \u001b[0;36mstanfit4anon_model_a233d67c13420180ad0b8c8f50ba894a_3015391906163264992.StanFit4Model._call_sampler\u001b[0;34m()\u001b[0m\n",
      "\u001b[0;32mstanfit4anon_model_a233d67c13420180ad0b8c8f50ba894a_3015391906163264992.pyx\u001b[0m in \u001b[0;36mstanfit4anon_model_a233d67c13420180ad0b8c8f50ba894a_3015391906163264992._call_sampler\u001b[0;34m()\u001b[0m\n",
      "\u001b[0;31mRuntimeError\u001b[0m: Initialization failed."
     ]
    }
   ],
   "source": [
    "fit_vb = sm_BB.vb(data=dat2stan, tol_rel_obj = 1e-3)"
   ]
  },
  {
   "cell_type": "code",
   "execution_count": null,
   "metadata": {},
   "outputs": [],
   "source": [
    "x = np.linspace(0, 1, 500)\n",
    "kappa = fit_vb['mean_pars'][1:K]\n",
    "dirMass = fit_vb['mean_pars'][K]\n",
    "theta = fit_vb['mean_pars'][K+1:(2*K+1)]\n",
    "Ms = fit_vb['mean_pars'][(2*K+1):]\n",
    "\n",
    "pars = pd.DataFrame([dat2stan['mu'],theta,Ms,dat2stan['mu']*Ms, (1-dat2stan['mu'])*Ms ],\n",
    "             index=[\"mu\",\"theta\",\"M\",\"alpha\",\"beta\"]).T\n",
    "\n",
    "for i in np.arange(len(Ms)):\n",
    "    m = pars.loc[i,\"mu\"]\n",
    "    M= pars.loc[i,\"M\"]\n",
    "    w = 60*pars.loc[i,\"theta\"]\n",
    "    plot_beta(x, alpha=m*M,beta=(1-m)*M, w= w)\n",
    "\n",
    "plt.hist(dat2stan['x']/dat2stan['n'],bins=50)"
   ]
  },
  {
   "cell_type": "code",
   "execution_count": 69,
   "metadata": {},
   "outputs": [
    {
     "data": {
      "text/plain": [
       "0.07692307692307693"
      ]
     },
     "execution_count": 69,
     "metadata": {},
     "output_type": "execute_result"
    }
   ],
   "source": [
    "np.min(dat2stan['x']/dat2stan['n'])"
   ]
  },
  {
   "cell_type": "code",
   "execution_count": 29,
   "metadata": {},
   "outputs": [
    {
     "data": {
      "text/plain": [
       "0.5319148936170213"
      ]
     },
     "execution_count": 29,
     "metadata": {},
     "output_type": "execute_result"
    }
   ],
   "source": [
    "np.median(dat2stan['x']/dat2stan['n'])"
   ]
  },
  {
   "cell_type": "code",
   "execution_count": null,
   "metadata": {},
   "outputs": [],
   "source": [
    "print(fit_vb['args']['sample_file'])\n",
    "d = pd.read_csv(\"/var/folders/yt/p39gwb910ys3dl075j1qwbnw0000gn/T/tmphweng8ln/output.csv\", skiprows=200)\n",
    "d.head()"
   ]
  },
  {
   "cell_type": "code",
   "execution_count": null,
   "metadata": {},
   "outputs": [],
   "source": [
    "%time fit = sm_BB.sampling(data=dat2stan, iter=1000, chains=2, n_jobs=1)"
   ]
  },
  {
   "cell_type": "code",
   "execution_count": null,
   "metadata": {},
   "outputs": [],
   "source": [
    "?sm_BB.sampling"
   ]
  },
  {
   "cell_type": "code",
   "execution_count": null,
   "metadata": {},
   "outputs": [],
   "source": []
  },
  {
   "cell_type": "code",
   "execution_count": null,
   "metadata": {},
   "outputs": [],
   "source": []
  },
  {
   "cell_type": "code",
   "execution_count": null,
   "metadata": {},
   "outputs": [],
   "source": [
    "print(fit.stansummary())"
   ]
  },
  {
   "cell_type": "code",
   "execution_count": null,
   "metadata": {},
   "outputs": [],
   "source": [
    "from scipy.special import gammaln\n",
    "from scipy.misc import logsumexp\n",
    "\n",
    "def log_dbetabinomial(x,n,a,b):\n",
    "    return gammaln(n+1) + gammaln(x+a) + gammaln(n-x+b) + gammaln(a+b) - \\\n",
    "        (gammaln(x+1) + gammaln(n-x+1) + gammaln(a) + gammaln(b) + gammaln(n+a+b))\n",
    "\n",
    "log_dbetabinomial(10,50,25,25)\n",
    "\n",
    "class DirMult:\n",
    "    def __init__(self,K=3,prior_counts = None):\n",
    "        if prior_counts is not None:\n",
    "            self.prior_counts = prior_counts\n",
    "        else: \n",
    "            self.prior_counts = np.ones(K)\n",
    "        \n",
    "        self.alpha = self.prior_counts\n",
    "\n",
    "    \n",
    "    def update(self,counts = None):\n",
    "        self.alpha += counts\n",
    "            \n",
    "d = dirich(prior_counts=pr_ct)\n",
    "print(d.prior_counts)\n",
    "d.update(pr_ct)\n",
    "print(d.alpha)\n",
    "\n"
   ]
  },
  {
   "cell_type": "code",
   "execution_count": null,
   "metadata": {},
   "outputs": [],
   "source": [
    "K=3\n",
    "N=5\n",
    "pr_ct = get_prior_counts(K=K)\n",
    "params = dict(K=K,\n",
    "              N=N,\n",
    "              pi=np.ones(K,dtype=np.float)/K,\n",
    "              alpha=pr_ct\n",
    "              \n",
    "             )\n",
    "params"
   ]
  },
  {
   "cell_type": "code",
   "execution_count": null,
   "metadata": {},
   "outputs": [],
   "source": [
    "data2 = data[data[\"totalCount\"] > 100]\n",
    "data2.shape"
   ]
  },
  {
   "cell_type": "code",
   "execution_count": null,
   "metadata": {},
   "outputs": [],
   "source": [
    "data2.head()"
   ]
  },
  {
   "cell_type": "code",
   "execution_count": null,
   "metadata": {},
   "outputs": [],
   "source": [
    "mult = get_mus_log(K=5)\n",
    "pr_ct = get_prior_counts(K=5)\n",
    "pr_ct\n"
   ]
  },
  {
   "cell_type": "code",
   "execution_count": null,
   "metadata": {},
   "outputs": [],
   "source": [
    "for i in xr"
   ]
  },
  {
   "cell_type": "code",
   "execution_count": null,
   "metadata": {},
   "outputs": [],
   "source": [
    "def prob_1_beats_2(alpha_1, beta_1, alpha_2, beta_2):\n",
    "    total = 0.0\n",
    "    for k in range(0,(alpha_1-1)):\n",
    "        total += exp(k * log(beta_1) + alpha_2 * logbeta_2) \\\n",
    "                 - (k+alpha_2) * log(beta_1 + beta_2) \\\n",
    "                 - log(k + alpha_2) - lbeta(k + 1, alpha_2)\n",
    "\n",
    "    return total\n",
    "\n",
    "prob_1_beats_2(10,50,25,25)"
   ]
  }
 ],
 "metadata": {
  "kernelspec": {
   "display_name": "Python 3",
   "language": "python",
   "name": "python3"
  },
  "language_info": {
   "codemirror_mode": {
    "name": "ipython",
    "version": 3
   },
   "file_extension": ".py",
   "mimetype": "text/x-python",
   "name": "python",
   "nbconvert_exporter": "python",
   "pygments_lexer": "ipython3",
   "version": "3.7.0"
  }
 },
 "nbformat": 4,
 "nbformat_minor": 2
}
